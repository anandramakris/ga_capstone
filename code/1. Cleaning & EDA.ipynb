{
 "cells": [
  {
   "cell_type": "markdown",
   "id": "a2623666",
   "metadata": {},
   "source": [
    "# Part 1: Cleaning & EDA"
   ]
  },
  {
   "cell_type": "code",
   "execution_count": 1,
   "id": "c8df0f61",
   "metadata": {},
   "outputs": [],
   "source": [
    "# Imports\n",
    "import pandas as pd\n",
    "import matplotlib.pyplot as plt"
   ]
  },
  {
   "cell_type": "markdown",
   "id": "7e81ca30",
   "metadata": {},
   "source": [
    "## Data Loading"
   ]
  },
  {
   "cell_type": "markdown",
   "id": "2eeac0a0",
   "metadata": {},
   "source": [
    "We have three datasets of sentences to use: one about gay rights, one about gun rights, and one containing restaurant reviews."
   ]
  },
  {
   "cell_type": "code",
   "execution_count": 2,
   "id": "d0ef2fae",
   "metadata": {},
   "outputs": [],
   "source": [
    "# Since there are no column labels, we have to set header=None so the first row is not treated as column names.\n",
    "# See documentation: https://pandas.pydata.org/docs/reference/api/pandas.read_csv.html\n",
    "gay = pd.read_csv('../data/GAY-SENTENCES.txt', sep='\\t', header=None)"
   ]
  },
  {
   "cell_type": "code",
   "execution_count": 3,
   "id": "0a0f5ab6",
   "metadata": {},
   "outputs": [
    {
     "data": {
      "text/html": [
       "<div>\n",
       "<style scoped>\n",
       "    .dataframe tbody tr th:only-of-type {\n",
       "        vertical-align: middle;\n",
       "    }\n",
       "\n",
       "    .dataframe tbody tr th {\n",
       "        vertical-align: top;\n",
       "    }\n",
       "\n",
       "    .dataframe thead th {\n",
       "        text-align: right;\n",
       "    }\n",
       "</style>\n",
       "<table border=\"1\" class=\"dataframe\">\n",
       "  <thead>\n",
       "    <tr style=\"text-align: right;\">\n",
       "      <th></th>\n",
       "      <th>0</th>\n",
       "      <th>1</th>\n",
       "      <th>2</th>\n",
       "      <th>3</th>\n",
       "      <th>4</th>\n",
       "    </tr>\n",
       "  </thead>\n",
       "  <tbody>\n",
       "    <tr>\n",
       "      <th>0</th>\n",
       "      <td>1001</td>\n",
       "      <td>A12WI1MRO70881</td>\n",
       "      <td>[SHIFT]LET THERE BE OTHER FORMS OF ESTABLISHI...</td>\n",
       "      <td>240,495,99,80,97,63,80,63,80,96,80,80,63,80,64...</td>\n",
       "      <td>240,495,99,80,97,63,80,63,80,96,80,80,63,80,64...</td>\n",
       "    </tr>\n",
       "    <tr>\n",
       "      <th>1</th>\n",
       "      <td>1002</td>\n",
       "      <td>A12WI1MRO70881</td>\n",
       "      <td>[SHIFT]LET THERE BE T[BACK]LEGALY RECOGNIZED ...</td>\n",
       "      <td>227,261,95,122,81,80,96,63,144,151,80,64,63,64...</td>\n",
       "      <td>227,261,95,122,81,80,96,63,144,151,80,64,63,64...</td>\n",
       "    </tr>\n",
       "    <tr>\n",
       "      <th>2</th>\n",
       "      <td>1003</td>\n",
       "      <td>A12WI1MRO70881</td>\n",
       "      <td>[SHIFT]I REO[BACK]COGNIZE THAT NON¿TRAIDI[BAC...</td>\n",
       "      <td>256,400,80,79,64,48,80,81,81,65,80,96,65,81,78...</td>\n",
       "      <td>256,400,80,79,64,48,80,81,81,65,80,96,65,81,78...</td>\n",
       "    </tr>\n",
       "    <tr>\n",
       "      <th>3</th>\n",
       "      <td>1004</td>\n",
       "      <td>A12WI1MRO70881</td>\n",
       "      <td>[SHIFT]ITS AN [BACK]C[BACK]A CORE SOCIAL INST...</td>\n",
       "      <td>240,192,79,79,82,80,79,79,80,415,64,61,97,80,8...</td>\n",
       "      <td>240,192,79,79,82,80,79,79,80,415,64,61,97,80,8...</td>\n",
       "    </tr>\n",
       "    <tr>\n",
       "      <th>4</th>\n",
       "      <td>1005</td>\n",
       "      <td>A12WI1MRO70881</td>\n",
       "      <td>[SHIFT]ITS A CORE SOCIAL INSTITUTION THAT IS ...</td>\n",
       "      <td>282,233,4,79,80,80,96,79,96,65,79,82,65,80,80,...</td>\n",
       "      <td>282,233,4,79,80,80,96,79,96,65,79,82,65,80,80,...</td>\n",
       "    </tr>\n",
       "  </tbody>\n",
       "</table>\n",
       "</div>"
      ],
      "text/plain": [
       "      0               1                                                  2  \\\n",
       "0  1001  A12WI1MRO70881   [SHIFT]LET THERE BE OTHER FORMS OF ESTABLISHI...   \n",
       "1  1002  A12WI1MRO70881   [SHIFT]LET THERE BE T[BACK]LEGALY RECOGNIZED ...   \n",
       "2  1003  A12WI1MRO70881   [SHIFT]I REO[BACK]COGNIZE THAT NON¿TRAIDI[BAC...   \n",
       "3  1004  A12WI1MRO70881   [SHIFT]ITS AN [BACK]C[BACK]A CORE SOCIAL INST...   \n",
       "4  1005  A12WI1MRO70881   [SHIFT]ITS A CORE SOCIAL INSTITUTION THAT IS ...   \n",
       "\n",
       "                                                   3  \\\n",
       "0  240,495,99,80,97,63,80,63,80,96,80,80,63,80,64...   \n",
       "1  227,261,95,122,81,80,96,63,144,151,80,64,63,64...   \n",
       "2  256,400,80,79,64,48,80,81,81,65,80,96,65,81,78...   \n",
       "3  240,192,79,79,82,80,79,79,80,415,64,61,97,80,8...   \n",
       "4  282,233,4,79,80,80,96,79,96,65,79,82,65,80,80,...   \n",
       "\n",
       "                                                   4  \n",
       "0  240,495,99,80,97,63,80,63,80,96,80,80,63,80,64...  \n",
       "1  227,261,95,122,81,80,96,63,144,151,80,64,63,64...  \n",
       "2  256,400,80,79,64,48,80,81,81,65,80,96,65,81,78...  \n",
       "3  240,192,79,79,82,80,79,79,80,415,64,61,97,80,8...  \n",
       "4  282,233,4,79,80,80,96,79,96,65,79,82,65,80,80,...  "
      ]
     },
     "execution_count": 3,
     "metadata": {},
     "output_type": "execute_result"
    }
   ],
   "source": [
    "gay.head()"
   ]
  },
  {
   "cell_type": "code",
   "execution_count": 4,
   "id": "ce2102bf",
   "metadata": {},
   "outputs": [],
   "source": [
    "# Column 4 is a duplicate of column 3\n",
    "gay.drop(columns = 4, inplace = True)"
   ]
  },
  {
   "cell_type": "code",
   "execution_count": 5,
   "id": "bb3a904d",
   "metadata": {},
   "outputs": [],
   "source": [
    "gay.columns = ['sentence_id', 'user_id', 'sentence', 'type_time']"
   ]
  },
  {
   "cell_type": "code",
   "execution_count": 6,
   "id": "174738a3",
   "metadata": {},
   "outputs": [
    {
     "data": {
      "text/html": [
       "<div>\n",
       "<style scoped>\n",
       "    .dataframe tbody tr th:only-of-type {\n",
       "        vertical-align: middle;\n",
       "    }\n",
       "\n",
       "    .dataframe tbody tr th {\n",
       "        vertical-align: top;\n",
       "    }\n",
       "\n",
       "    .dataframe thead th {\n",
       "        text-align: right;\n",
       "    }\n",
       "</style>\n",
       "<table border=\"1\" class=\"dataframe\">\n",
       "  <thead>\n",
       "    <tr style=\"text-align: right;\">\n",
       "      <th></th>\n",
       "      <th>sentence_id</th>\n",
       "      <th>user_id</th>\n",
       "      <th>sentence</th>\n",
       "      <th>type_time</th>\n",
       "    </tr>\n",
       "  </thead>\n",
       "  <tbody>\n",
       "    <tr>\n",
       "      <th>0</th>\n",
       "      <td>1001</td>\n",
       "      <td>A12WI1MRO70881</td>\n",
       "      <td>[SHIFT]LET THERE BE OTHER FORMS OF ESTABLISHI...</td>\n",
       "      <td>240,495,99,80,97,63,80,63,80,96,80,80,63,80,64...</td>\n",
       "    </tr>\n",
       "    <tr>\n",
       "      <th>1</th>\n",
       "      <td>1002</td>\n",
       "      <td>A12WI1MRO70881</td>\n",
       "      <td>[SHIFT]LET THERE BE T[BACK]LEGALY RECOGNIZED ...</td>\n",
       "      <td>227,261,95,122,81,80,96,63,144,151,80,64,63,64...</td>\n",
       "    </tr>\n",
       "    <tr>\n",
       "      <th>2</th>\n",
       "      <td>1003</td>\n",
       "      <td>A12WI1MRO70881</td>\n",
       "      <td>[SHIFT]I REO[BACK]COGNIZE THAT NON¿TRAIDI[BAC...</td>\n",
       "      <td>256,400,80,79,64,48,80,81,81,65,80,96,65,81,78...</td>\n",
       "    </tr>\n",
       "    <tr>\n",
       "      <th>3</th>\n",
       "      <td>1004</td>\n",
       "      <td>A12WI1MRO70881</td>\n",
       "      <td>[SHIFT]ITS AN [BACK]C[BACK]A CORE SOCIAL INST...</td>\n",
       "      <td>240,192,79,79,82,80,79,79,80,415,64,61,97,80,8...</td>\n",
       "    </tr>\n",
       "    <tr>\n",
       "      <th>4</th>\n",
       "      <td>1005</td>\n",
       "      <td>A12WI1MRO70881</td>\n",
       "      <td>[SHIFT]ITS A CORE SOCIAL INSTITUTION THAT IS ...</td>\n",
       "      <td>282,233,4,79,80,80,96,79,96,65,79,82,65,80,80,...</td>\n",
       "    </tr>\n",
       "  </tbody>\n",
       "</table>\n",
       "</div>"
      ],
      "text/plain": [
       "   sentence_id         user_id  \\\n",
       "0         1001  A12WI1MRO70881   \n",
       "1         1002  A12WI1MRO70881   \n",
       "2         1003  A12WI1MRO70881   \n",
       "3         1004  A12WI1MRO70881   \n",
       "4         1005  A12WI1MRO70881   \n",
       "\n",
       "                                            sentence  \\\n",
       "0   [SHIFT]LET THERE BE OTHER FORMS OF ESTABLISHI...   \n",
       "1   [SHIFT]LET THERE BE T[BACK]LEGALY RECOGNIZED ...   \n",
       "2   [SHIFT]I REO[BACK]COGNIZE THAT NON¿TRAIDI[BAC...   \n",
       "3   [SHIFT]ITS AN [BACK]C[BACK]A CORE SOCIAL INST...   \n",
       "4   [SHIFT]ITS A CORE SOCIAL INSTITUTION THAT IS ...   \n",
       "\n",
       "                                           type_time  \n",
       "0  240,495,99,80,97,63,80,63,80,96,80,80,63,80,64...  \n",
       "1  227,261,95,122,81,80,96,63,144,151,80,64,63,64...  \n",
       "2  256,400,80,79,64,48,80,81,81,65,80,96,65,81,78...  \n",
       "3  240,192,79,79,82,80,79,79,80,415,64,61,97,80,8...  \n",
       "4  282,233,4,79,80,80,96,79,96,65,79,82,65,80,80,...  "
      ]
     },
     "execution_count": 6,
     "metadata": {},
     "output_type": "execute_result"
    }
   ],
   "source": [
    "gay.head()"
   ]
  },
  {
   "cell_type": "code",
   "execution_count": 7,
   "id": "1a7d4d29",
   "metadata": {},
   "outputs": [],
   "source": [
    "# We can drop sentence_id as it is not relevant to our analysis\n",
    "gay.drop(columns = 'sentence_id', inplace = True)"
   ]
  },
  {
   "cell_type": "markdown",
   "id": "2ed4036d",
   "metadata": {},
   "source": [
    "## Data Cleaning"
   ]
  },
  {
   "cell_type": "code",
   "execution_count": 8,
   "id": "8c369b5e",
   "metadata": {},
   "outputs": [
    {
     "data": {
      "text/plain": [
       "user_id      0\n",
       "sentence     0\n",
       "type_time    0\n",
       "dtype: int64"
      ]
     },
     "execution_count": 8,
     "metadata": {},
     "output_type": "execute_result"
    }
   ],
   "source": [
    "# Check for any nulls\n",
    "gay.isnull().sum()"
   ]
  },
  {
   "cell_type": "code",
   "execution_count": 9,
   "id": "81faf614",
   "metadata": {},
   "outputs": [],
   "source": [
    "# This function adds up the speeds for each keystroke.\n",
    "def total_time(string):\n",
    "    typingSum = 0\n",
    "    \n",
    "    numberString = \"\"\n",
    "    \n",
    "    for i in range(len(string)):\n",
    "        if string[i] == ',':\n",
    "            typingSum += int(numberString)\n",
    "            numberString = \"\"\n",
    "        else:\n",
    "            numberString = numberString + string[i]\n",
    "            \n",
    "            if i == len(string) - 1:\n",
    "                typingSum += int(numberString)\n",
    "            \n",
    "    return typingSum"
   ]
  },
  {
   "cell_type": "code",
   "execution_count": 10,
   "id": "9553b5c9",
   "metadata": {},
   "outputs": [],
   "source": [
    "# Set speed to be equal to total speed\n",
    "gay['type_time'] = gay['type_time'].map(lambda x: total_time(x))"
   ]
  },
  {
   "cell_type": "code",
   "execution_count": 11,
   "id": "f773a650",
   "metadata": {},
   "outputs": [
    {
     "data": {
      "text/html": [
       "<div>\n",
       "<style scoped>\n",
       "    .dataframe tbody tr th:only-of-type {\n",
       "        vertical-align: middle;\n",
       "    }\n",
       "\n",
       "    .dataframe tbody tr th {\n",
       "        vertical-align: top;\n",
       "    }\n",
       "\n",
       "    .dataframe thead th {\n",
       "        text-align: right;\n",
       "    }\n",
       "</style>\n",
       "<table border=\"1\" class=\"dataframe\">\n",
       "  <thead>\n",
       "    <tr style=\"text-align: right;\">\n",
       "      <th></th>\n",
       "      <th>user_id</th>\n",
       "      <th>sentence</th>\n",
       "      <th>type_time</th>\n",
       "    </tr>\n",
       "  </thead>\n",
       "  <tbody>\n",
       "    <tr>\n",
       "      <th>0</th>\n",
       "      <td>A12WI1MRO70881</td>\n",
       "      <td>[SHIFT]LET THERE BE OTHER FORMS OF ESTABLISHI...</td>\n",
       "      <td>43693</td>\n",
       "    </tr>\n",
       "    <tr>\n",
       "      <th>1</th>\n",
       "      <td>A12WI1MRO70881</td>\n",
       "      <td>[SHIFT]LET THERE BE T[BACK]LEGALY RECOGNIZED ...</td>\n",
       "      <td>34515</td>\n",
       "    </tr>\n",
       "    <tr>\n",
       "      <th>2</th>\n",
       "      <td>A12WI1MRO70881</td>\n",
       "      <td>[SHIFT]I REO[BACK]COGNIZE THAT NON¿TRAIDI[BAC...</td>\n",
       "      <td>23272</td>\n",
       "    </tr>\n",
       "    <tr>\n",
       "      <th>3</th>\n",
       "      <td>A12WI1MRO70881</td>\n",
       "      <td>[SHIFT]ITS AN [BACK]C[BACK]A CORE SOCIAL INST...</td>\n",
       "      <td>15389</td>\n",
       "    </tr>\n",
       "    <tr>\n",
       "      <th>4</th>\n",
       "      <td>A12WI1MRO70881</td>\n",
       "      <td>[SHIFT]ITS A CORE SOCIAL INSTITUTION THAT IS ...</td>\n",
       "      <td>14949</td>\n",
       "    </tr>\n",
       "  </tbody>\n",
       "</table>\n",
       "</div>"
      ],
      "text/plain": [
       "          user_id                                           sentence  \\\n",
       "0  A12WI1MRO70881   [SHIFT]LET THERE BE OTHER FORMS OF ESTABLISHI...   \n",
       "1  A12WI1MRO70881   [SHIFT]LET THERE BE T[BACK]LEGALY RECOGNIZED ...   \n",
       "2  A12WI1MRO70881   [SHIFT]I REO[BACK]COGNIZE THAT NON¿TRAIDI[BAC...   \n",
       "3  A12WI1MRO70881   [SHIFT]ITS AN [BACK]C[BACK]A CORE SOCIAL INST...   \n",
       "4  A12WI1MRO70881   [SHIFT]ITS A CORE SOCIAL INSTITUTION THAT IS ...   \n",
       "\n",
       "   type_time  \n",
       "0      43693  \n",
       "1      34515  \n",
       "2      23272  \n",
       "3      15389  \n",
       "4      14949  "
      ]
     },
     "execution_count": 11,
     "metadata": {},
     "output_type": "execute_result"
    }
   ],
   "source": [
    "gay.head()"
   ]
  },
  {
   "cell_type": "code",
   "execution_count": 12,
   "id": "ea0d5e76",
   "metadata": {},
   "outputs": [],
   "source": [
    "# Total number of function keys\n",
    "gay['function_keys'] = gay['sentence'].map(lambda x: sum([1 for char in x if char == '[']))"
   ]
  },
  {
   "cell_type": "code",
   "execution_count": 13,
   "id": "8969bf56",
   "metadata": {},
   "outputs": [],
   "source": [
    "# This function removes function keys such as shift and backspace from the sentence data\n",
    "def real_sentence(string):\n",
    "    realString = \"\"\n",
    "    i = 0\n",
    "    \n",
    "    while i < len(string):\n",
    "        if string[i] == '[':\n",
    "            if string[i+1:i+6] == 'BACK]':\n",
    "                # Remove last character if backspace key is encountered\n",
    "                realString = realString[0:len(realString) - 1]\n",
    "                i += 6\n",
    "            else:\n",
    "                # Loop until function key is finished\n",
    "                while i < len(string):\n",
    "                    if string[i] == ']':\n",
    "                        i += 1\n",
    "                        break\n",
    "                    i += 1\n",
    "        else:\n",
    "            realString += string[i]\n",
    "            i += 1\n",
    "            \n",
    "    return realString"
   ]
  },
  {
   "cell_type": "code",
   "execution_count": 14,
   "id": "35008b92",
   "metadata": {},
   "outputs": [],
   "source": [
    "gay['sentence'] = gay['sentence'].map(lambda x: real_sentence(x))"
   ]
  },
  {
   "cell_type": "code",
   "execution_count": 15,
   "id": "6192bc75",
   "metadata": {},
   "outputs": [
    {
     "data": {
      "text/html": [
       "<div>\n",
       "<style scoped>\n",
       "    .dataframe tbody tr th:only-of-type {\n",
       "        vertical-align: middle;\n",
       "    }\n",
       "\n",
       "    .dataframe tbody tr th {\n",
       "        vertical-align: top;\n",
       "    }\n",
       "\n",
       "    .dataframe thead th {\n",
       "        text-align: right;\n",
       "    }\n",
       "</style>\n",
       "<table border=\"1\" class=\"dataframe\">\n",
       "  <thead>\n",
       "    <tr style=\"text-align: right;\">\n",
       "      <th></th>\n",
       "      <th>user_id</th>\n",
       "      <th>sentence</th>\n",
       "      <th>type_time</th>\n",
       "      <th>function_keys</th>\n",
       "    </tr>\n",
       "  </thead>\n",
       "  <tbody>\n",
       "    <tr>\n",
       "      <th>0</th>\n",
       "      <td>A12WI1MRO70881</td>\n",
       "      <td>LET THERE BE OTHER FORMS OF ESTABLISHINA DOME...</td>\n",
       "      <td>43693</td>\n",
       "      <td>22</td>\n",
       "    </tr>\n",
       "    <tr>\n",
       "      <th>1</th>\n",
       "      <td>A12WI1MRO70881</td>\n",
       "      <td>LET THERE BE LEGALY RECOGNIZED DOMSESTIC PART...</td>\n",
       "      <td>34515</td>\n",
       "      <td>11</td>\n",
       "    </tr>\n",
       "    <tr>\n",
       "      <th>2</th>\n",
       "      <td>A12WI1MRO70881</td>\n",
       "      <td>I RECOGNIZE THAT NON¿TRAIDDITIONAL PARTNERSHI...</td>\n",
       "      <td>23272</td>\n",
       "      <td>15</td>\n",
       "    </tr>\n",
       "    <tr>\n",
       "      <th>3</th>\n",
       "      <td>A12WI1MRO70881</td>\n",
       "      <td>ITS ANA CORE SOCIAL INSTITUTION THAT IS UNDER...</td>\n",
       "      <td>15389</td>\n",
       "      <td>4</td>\n",
       "    </tr>\n",
       "    <tr>\n",
       "      <th>4</th>\n",
       "      <td>A12WI1MRO70881</td>\n",
       "      <td>ITS A CORE SOCIAL INSTITUTION THAT IS UNDER A...</td>\n",
       "      <td>14949</td>\n",
       "      <td>3</td>\n",
       "    </tr>\n",
       "  </tbody>\n",
       "</table>\n",
       "</div>"
      ],
      "text/plain": [
       "          user_id                                           sentence  \\\n",
       "0  A12WI1MRO70881   LET THERE BE OTHER FORMS OF ESTABLISHINA DOME...   \n",
       "1  A12WI1MRO70881   LET THERE BE LEGALY RECOGNIZED DOMSESTIC PART...   \n",
       "2  A12WI1MRO70881   I RECOGNIZE THAT NON¿TRAIDDITIONAL PARTNERSHI...   \n",
       "3  A12WI1MRO70881   ITS ANA CORE SOCIAL INSTITUTION THAT IS UNDER...   \n",
       "4  A12WI1MRO70881   ITS A CORE SOCIAL INSTITUTION THAT IS UNDER A...   \n",
       "\n",
       "   type_time  function_keys  \n",
       "0      43693             22  \n",
       "1      34515             11  \n",
       "2      23272             15  \n",
       "3      15389              4  \n",
       "4      14949              3  "
      ]
     },
     "execution_count": 15,
     "metadata": {},
     "output_type": "execute_result"
    }
   ],
   "source": [
    "gay.head()"
   ]
  },
  {
   "cell_type": "code",
   "execution_count": 16,
   "id": "cb94817e",
   "metadata": {},
   "outputs": [
    {
     "data": {
      "text/plain": [
       "user_id          object\n",
       "sentence         object\n",
       "type_time         int64\n",
       "function_keys     int64\n",
       "dtype: object"
      ]
     },
     "execution_count": 16,
     "metadata": {},
     "output_type": "execute_result"
    }
   ],
   "source": [
    "# Check if user_id and sentence are objects and speed is an int\n",
    "gay.dtypes"
   ]
  },
  {
   "cell_type": "code",
   "execution_count": 17,
   "id": "34dfe05f",
   "metadata": {},
   "outputs": [
    {
     "data": {
      "text/html": [
       "<div>\n",
       "<style scoped>\n",
       "    .dataframe tbody tr th:only-of-type {\n",
       "        vertical-align: middle;\n",
       "    }\n",
       "\n",
       "    .dataframe tbody tr th {\n",
       "        vertical-align: top;\n",
       "    }\n",
       "\n",
       "    .dataframe thead th {\n",
       "        text-align: right;\n",
       "    }\n",
       "</style>\n",
       "<table border=\"1\" class=\"dataframe\">\n",
       "  <thead>\n",
       "    <tr style=\"text-align: right;\">\n",
       "      <th></th>\n",
       "      <th>user_id</th>\n",
       "      <th>sentence</th>\n",
       "      <th>type_time</th>\n",
       "      <th>function_keys</th>\n",
       "      <th>topic</th>\n",
       "    </tr>\n",
       "  </thead>\n",
       "  <tbody>\n",
       "    <tr>\n",
       "      <th>0</th>\n",
       "      <td>A12WI1MRO70881</td>\n",
       "      <td>LET THERE BE OTHER FORMS OF ESTABLISHINA DOME...</td>\n",
       "      <td>43693</td>\n",
       "      <td>22</td>\n",
       "      <td>gay</td>\n",
       "    </tr>\n",
       "    <tr>\n",
       "      <th>1</th>\n",
       "      <td>A12WI1MRO70881</td>\n",
       "      <td>LET THERE BE LEGALY RECOGNIZED DOMSESTIC PART...</td>\n",
       "      <td>34515</td>\n",
       "      <td>11</td>\n",
       "      <td>gay</td>\n",
       "    </tr>\n",
       "    <tr>\n",
       "      <th>2</th>\n",
       "      <td>A12WI1MRO70881</td>\n",
       "      <td>I RECOGNIZE THAT NON¿TRAIDDITIONAL PARTNERSHI...</td>\n",
       "      <td>23272</td>\n",
       "      <td>15</td>\n",
       "      <td>gay</td>\n",
       "    </tr>\n",
       "    <tr>\n",
       "      <th>3</th>\n",
       "      <td>A12WI1MRO70881</td>\n",
       "      <td>ITS ANA CORE SOCIAL INSTITUTION THAT IS UNDER...</td>\n",
       "      <td>15389</td>\n",
       "      <td>4</td>\n",
       "      <td>gay</td>\n",
       "    </tr>\n",
       "    <tr>\n",
       "      <th>4</th>\n",
       "      <td>A12WI1MRO70881</td>\n",
       "      <td>ITS A CORE SOCIAL INSTITUTION THAT IS UNDER A...</td>\n",
       "      <td>14949</td>\n",
       "      <td>3</td>\n",
       "      <td>gay</td>\n",
       "    </tr>\n",
       "  </tbody>\n",
       "</table>\n",
       "</div>"
      ],
      "text/plain": [
       "          user_id                                           sentence  \\\n",
       "0  A12WI1MRO70881   LET THERE BE OTHER FORMS OF ESTABLISHINA DOME...   \n",
       "1  A12WI1MRO70881   LET THERE BE LEGALY RECOGNIZED DOMSESTIC PART...   \n",
       "2  A12WI1MRO70881   I RECOGNIZE THAT NON¿TRAIDDITIONAL PARTNERSHI...   \n",
       "3  A12WI1MRO70881   ITS ANA CORE SOCIAL INSTITUTION THAT IS UNDER...   \n",
       "4  A12WI1MRO70881   ITS A CORE SOCIAL INSTITUTION THAT IS UNDER A...   \n",
       "\n",
       "   type_time  function_keys topic  \n",
       "0      43693             22   gay  \n",
       "1      34515             11   gay  \n",
       "2      23272             15   gay  \n",
       "3      15389              4   gay  \n",
       "4      14949              3   gay  "
      ]
     },
     "execution_count": 17,
     "metadata": {},
     "output_type": "execute_result"
    }
   ],
   "source": [
    "# Create a column for topic of the dataset the sentence came from\n",
    "gay['topic'] = 'gay'\n",
    "gay.head()"
   ]
  },
  {
   "cell_type": "code",
   "execution_count": 18,
   "id": "d2de45db",
   "metadata": {},
   "outputs": [],
   "source": [
    "# Do the same cleaning for the gun rights and review datasets as for the gay rights dataset\n",
    "gun = pd.read_csv('../data/GUN-SENTENCES.txt', sep='\\t', header=None)\n",
    "gun.drop(columns = [0, 4], inplace = True)\n",
    "gun.columns = ['user_id', 'sentence', 'type_time']"
   ]
  },
  {
   "cell_type": "code",
   "execution_count": 19,
   "id": "69614488",
   "metadata": {},
   "outputs": [
    {
     "data": {
      "text/plain": [
       "user_id      0\n",
       "sentence     0\n",
       "type_time    0\n",
       "dtype: int64"
      ]
     },
     "execution_count": 19,
     "metadata": {},
     "output_type": "execute_result"
    }
   ],
   "source": [
    "gun.isnull().sum()"
   ]
  },
  {
   "cell_type": "code",
   "execution_count": 20,
   "id": "e2ace0ee",
   "metadata": {},
   "outputs": [],
   "source": [
    "gun['type_time'] = gun['type_time'].map(lambda x: total_time(x))\n",
    "gun['function_keys'] = gun['sentence'].map(lambda x: sum([1 for char in x if char == '[']))\n",
    "gun['sentence'] = gun['sentence'].map(lambda x: real_sentence(x))\n",
    "gun['topic'] = 'gun'"
   ]
  },
  {
   "cell_type": "code",
   "execution_count": 21,
   "id": "b859c22d",
   "metadata": {},
   "outputs": [
    {
     "data": {
      "text/html": [
       "<div>\n",
       "<style scoped>\n",
       "    .dataframe tbody tr th:only-of-type {\n",
       "        vertical-align: middle;\n",
       "    }\n",
       "\n",
       "    .dataframe tbody tr th {\n",
       "        vertical-align: top;\n",
       "    }\n",
       "\n",
       "    .dataframe thead th {\n",
       "        text-align: right;\n",
       "    }\n",
       "</style>\n",
       "<table border=\"1\" class=\"dataframe\">\n",
       "  <thead>\n",
       "    <tr style=\"text-align: right;\">\n",
       "      <th></th>\n",
       "      <th>user_id</th>\n",
       "      <th>sentence</th>\n",
       "      <th>type_time</th>\n",
       "      <th>function_keys</th>\n",
       "      <th>topic</th>\n",
       "    </tr>\n",
       "  </thead>\n",
       "  <tbody>\n",
       "    <tr>\n",
       "      <th>0</th>\n",
       "      <td>A12WI1MRO70881</td>\n",
       "      <td>ANTOEROTHER REASON TO NOT TAKE AWAY GUNS IS T...</td>\n",
       "      <td>32273</td>\n",
       "      <td>6</td>\n",
       "      <td>gun</td>\n",
       "    </tr>\n",
       "    <tr>\n",
       "      <th>1</th>\n",
       "      <td>A12WI1MRO70881</td>\n",
       "      <td>, WHEREAS BEFORE THEY HAD TOCRIMINLALS WERE OU...</td>\n",
       "      <td>26831</td>\n",
       "      <td>11</td>\n",
       "      <td>gun</td>\n",
       "    </tr>\n",
       "    <tr>\n",
       "      <th>2</th>\n",
       "      <td>A12WI1MRO70881</td>\n",
       "      <td>BY IMPOSING GUN CONTROL, WE TAKE AWAY THE SAF...</td>\n",
       "      <td>22400</td>\n",
       "      <td>6</td>\n",
       "      <td>gun</td>\n",
       "    </tr>\n",
       "    <tr>\n",
       "      <th>3</th>\n",
       "      <td>A12WI1MRO70881</td>\n",
       "      <td>FOR THESE COUPERESOASONS AND MORE, I BELIEVE ...</td>\n",
       "      <td>23105</td>\n",
       "      <td>6</td>\n",
       "      <td>gun</td>\n",
       "    </tr>\n",
       "    <tr>\n",
       "      <th>4</th>\n",
       "      <td>A12WI1MRO70881</td>\n",
       "      <td>NBY IMPOSING GUN CONTROL, WE TAKE AWAY THE SA...</td>\n",
       "      <td>21881</td>\n",
       "      <td>3</td>\n",
       "      <td>gun</td>\n",
       "    </tr>\n",
       "  </tbody>\n",
       "</table>\n",
       "</div>"
      ],
      "text/plain": [
       "          user_id                                           sentence  \\\n",
       "0  A12WI1MRO70881   ANTOEROTHER REASON TO NOT TAKE AWAY GUNS IS T...   \n",
       "1  A12WI1MRO70881  , WHEREAS BEFORE THEY HAD TOCRIMINLALS WERE OU...   \n",
       "2  A12WI1MRO70881   BY IMPOSING GUN CONTROL, WE TAKE AWAY THE SAF...   \n",
       "3  A12WI1MRO70881   FOR THESE COUPERESOASONS AND MORE, I BELIEVE ...   \n",
       "4  A12WI1MRO70881   NBY IMPOSING GUN CONTROL, WE TAKE AWAY THE SA...   \n",
       "\n",
       "   type_time  function_keys topic  \n",
       "0      32273              6   gun  \n",
       "1      26831             11   gun  \n",
       "2      22400              6   gun  \n",
       "3      23105              6   gun  \n",
       "4      21881              3   gun  "
      ]
     },
     "execution_count": 21,
     "metadata": {},
     "output_type": "execute_result"
    }
   ],
   "source": [
    "gun.head()"
   ]
  },
  {
   "cell_type": "code",
   "execution_count": 22,
   "id": "81e4af85",
   "metadata": {},
   "outputs": [],
   "source": [
    "review = pd.read_csv('../data/REVIEW-SENTENCES.txt', sep='\\t', header=None)\n",
    "review.drop(columns = [0, 4], inplace = True)\n",
    "review.columns = ['user_id', 'sentence', 'type_time']"
   ]
  },
  {
   "cell_type": "code",
   "execution_count": 23,
   "id": "01041709",
   "metadata": {},
   "outputs": [
    {
     "data": {
      "text/plain": [
       "user_id      0\n",
       "sentence     0\n",
       "type_time    0\n",
       "dtype: int64"
      ]
     },
     "execution_count": 23,
     "metadata": {},
     "output_type": "execute_result"
    }
   ],
   "source": [
    "review.isnull().sum()"
   ]
  },
  {
   "cell_type": "code",
   "execution_count": 24,
   "id": "6aa27170",
   "metadata": {},
   "outputs": [],
   "source": [
    "review['type_time'] = review['type_time'].map(lambda x: total_time(x))\n",
    "review['function_keys'] = review['sentence'].map(lambda x: sum([1 for char in x if char == '[']))\n",
    "review['sentence'] = review['sentence'].map(lambda x: real_sentence(x))\n",
    "review['topic'] = 'review'"
   ]
  },
  {
   "cell_type": "code",
   "execution_count": 25,
   "id": "218048ad",
   "metadata": {},
   "outputs": [
    {
     "data": {
      "text/html": [
       "<div>\n",
       "<style scoped>\n",
       "    .dataframe tbody tr th:only-of-type {\n",
       "        vertical-align: middle;\n",
       "    }\n",
       "\n",
       "    .dataframe tbody tr th {\n",
       "        vertical-align: top;\n",
       "    }\n",
       "\n",
       "    .dataframe thead th {\n",
       "        text-align: right;\n",
       "    }\n",
       "</style>\n",
       "<table border=\"1\" class=\"dataframe\">\n",
       "  <thead>\n",
       "    <tr style=\"text-align: right;\">\n",
       "      <th></th>\n",
       "      <th>user_id</th>\n",
       "      <th>sentence</th>\n",
       "      <th>type_time</th>\n",
       "      <th>function_keys</th>\n",
       "      <th>topic</th>\n",
       "    </tr>\n",
       "  </thead>\n",
       "  <tbody>\n",
       "    <tr>\n",
       "      <th>0</th>\n",
       "      <td>A12WI1MRO70881</td>\n",
       "      <td>THE STAF AT ORIRININAL GINAL SHRIMP PLACE IS ...</td>\n",
       "      <td>21052</td>\n",
       "      <td>12</td>\n",
       "      <td>review</td>\n",
       "    </tr>\n",
       "    <tr>\n",
       "      <th>1</th>\n",
       "      <td>A12WI1MRO70881</td>\n",
       "      <td>THE INSIDE IS A VERY NCIICEE PLACE FROR THOSE...</td>\n",
       "      <td>19918</td>\n",
       "      <td>11</td>\n",
       "      <td>review</td>\n",
       "    </tr>\n",
       "    <tr>\n",
       "      <th>2</th>\n",
       "      <td>A12WI1MRO70881</td>\n",
       "      <td>THTTHE WAITERS ARE ALSO VERY KNOWLEDGEABLE AB...</td>\n",
       "      <td>17245</td>\n",
       "      <td>13</td>\n",
       "      <td>review</td>\n",
       "    </tr>\n",
       "    <tr>\n",
       "      <th>3</th>\n",
       "      <td>A12WI1MRO70881</td>\n",
       "      <td>THE STAF AT ORIGINAL SHRIMP PLACE IS ALSO VER...</td>\n",
       "      <td>16987</td>\n",
       "      <td>10</td>\n",
       "      <td>review</td>\n",
       "    </tr>\n",
       "    <tr>\n",
       "      <th>4</th>\n",
       "      <td>A12WI1MRO70881</td>\n",
       "      <td>ALTHOUGH THEY DO SEL OTHER FOD TITEMS THAT AR...</td>\n",
       "      <td>18196</td>\n",
       "      <td>10</td>\n",
       "      <td>review</td>\n",
       "    </tr>\n",
       "  </tbody>\n",
       "</table>\n",
       "</div>"
      ],
      "text/plain": [
       "          user_id                                           sentence  \\\n",
       "0  A12WI1MRO70881   THE STAF AT ORIRININAL GINAL SHRIMP PLACE IS ...   \n",
       "1  A12WI1MRO70881   THE INSIDE IS A VERY NCIICEE PLACE FROR THOSE...   \n",
       "2  A12WI1MRO70881   THTTHE WAITERS ARE ALSO VERY KNOWLEDGEABLE AB...   \n",
       "3  A12WI1MRO70881   THE STAF AT ORIGINAL SHRIMP PLACE IS ALSO VER...   \n",
       "4  A12WI1MRO70881   ALTHOUGH THEY DO SEL OTHER FOD TITEMS THAT AR...   \n",
       "\n",
       "   type_time  function_keys   topic  \n",
       "0      21052             12  review  \n",
       "1      19918             11  review  \n",
       "2      17245             13  review  \n",
       "3      16987             10  review  \n",
       "4      18196             10  review  "
      ]
     },
     "execution_count": 25,
     "metadata": {},
     "output_type": "execute_result"
    }
   ],
   "source": [
    "review.head()"
   ]
  },
  {
   "cell_type": "code",
   "execution_count": 26,
   "id": "49e1a0c6",
   "metadata": {},
   "outputs": [],
   "source": [
    "# Combine all sentences into one dataframe\n",
    "data = gay\n",
    "data = data.append(gun)\n",
    "data = data.append(review)"
   ]
  },
  {
   "cell_type": "code",
   "execution_count": 27,
   "id": "14442747",
   "metadata": {},
   "outputs": [],
   "source": [
    "data['length'] = data['sentence'].map(lambda x: len(x))"
   ]
  },
  {
   "cell_type": "code",
   "execution_count": 28,
   "id": "75f1c253",
   "metadata": {},
   "outputs": [
    {
     "data": {
      "text/html": [
       "<div>\n",
       "<style scoped>\n",
       "    .dataframe tbody tr th:only-of-type {\n",
       "        vertical-align: middle;\n",
       "    }\n",
       "\n",
       "    .dataframe tbody tr th {\n",
       "        vertical-align: top;\n",
       "    }\n",
       "\n",
       "    .dataframe thead th {\n",
       "        text-align: right;\n",
       "    }\n",
       "</style>\n",
       "<table border=\"1\" class=\"dataframe\">\n",
       "  <thead>\n",
       "    <tr style=\"text-align: right;\">\n",
       "      <th></th>\n",
       "      <th>user_id</th>\n",
       "      <th>sentence</th>\n",
       "      <th>type_time</th>\n",
       "      <th>function_keys</th>\n",
       "      <th>topic</th>\n",
       "      <th>length</th>\n",
       "    </tr>\n",
       "  </thead>\n",
       "  <tbody>\n",
       "    <tr>\n",
       "      <th>0</th>\n",
       "      <td>A12WI1MRO70881</td>\n",
       "      <td>LET THERE BE OTHER FORMS OF ESTABLISHINA DOME...</td>\n",
       "      <td>43693</td>\n",
       "      <td>22</td>\n",
       "      <td>gay</td>\n",
       "      <td>406</td>\n",
       "    </tr>\n",
       "    <tr>\n",
       "      <th>1</th>\n",
       "      <td>A12WI1MRO70881</td>\n",
       "      <td>LET THERE BE LEGALY RECOGNIZED DOMSESTIC PART...</td>\n",
       "      <td>34515</td>\n",
       "      <td>11</td>\n",
       "      <td>gay</td>\n",
       "      <td>387</td>\n",
       "    </tr>\n",
       "    <tr>\n",
       "      <th>2</th>\n",
       "      <td>A12WI1MRO70881</td>\n",
       "      <td>I RECOGNIZE THAT NON¿TRAIDDITIONAL PARTNERSHI...</td>\n",
       "      <td>23272</td>\n",
       "      <td>15</td>\n",
       "      <td>gay</td>\n",
       "      <td>182</td>\n",
       "    </tr>\n",
       "    <tr>\n",
       "      <th>3</th>\n",
       "      <td>A12WI1MRO70881</td>\n",
       "      <td>ITS ANA CORE SOCIAL INSTITUTION THAT IS UNDER...</td>\n",
       "      <td>15389</td>\n",
       "      <td>4</td>\n",
       "      <td>gay</td>\n",
       "      <td>179</td>\n",
       "    </tr>\n",
       "    <tr>\n",
       "      <th>4</th>\n",
       "      <td>A12WI1MRO70881</td>\n",
       "      <td>ITS A CORE SOCIAL INSTITUTION THAT IS UNDER A...</td>\n",
       "      <td>14949</td>\n",
       "      <td>3</td>\n",
       "      <td>gay</td>\n",
       "      <td>177</td>\n",
       "    </tr>\n",
       "  </tbody>\n",
       "</table>\n",
       "</div>"
      ],
      "text/plain": [
       "          user_id                                           sentence  \\\n",
       "0  A12WI1MRO70881   LET THERE BE OTHER FORMS OF ESTABLISHINA DOME...   \n",
       "1  A12WI1MRO70881   LET THERE BE LEGALY RECOGNIZED DOMSESTIC PART...   \n",
       "2  A12WI1MRO70881   I RECOGNIZE THAT NON¿TRAIDDITIONAL PARTNERSHI...   \n",
       "3  A12WI1MRO70881   ITS ANA CORE SOCIAL INSTITUTION THAT IS UNDER...   \n",
       "4  A12WI1MRO70881   ITS A CORE SOCIAL INSTITUTION THAT IS UNDER A...   \n",
       "\n",
       "   type_time  function_keys topic  length  \n",
       "0      43693             22   gay     406  \n",
       "1      34515             11   gay     387  \n",
       "2      23272             15   gay     182  \n",
       "3      15389              4   gay     179  \n",
       "4      14949              3   gay     177  "
      ]
     },
     "execution_count": 28,
     "metadata": {},
     "output_type": "execute_result"
    }
   ],
   "source": [
    "data.head()"
   ]
  },
  {
   "cell_type": "markdown",
   "id": "1e289625",
   "metadata": {},
   "source": [
    "## Data Analysis"
   ]
  },
  {
   "cell_type": "code",
   "execution_count": 29,
   "id": "37e16286",
   "metadata": {},
   "outputs": [
    {
     "data": {
      "text/plain": [
       "(32716, 6)"
      ]
     },
     "execution_count": 29,
     "metadata": {},
     "output_type": "execute_result"
    }
   ],
   "source": [
    "data.shape"
   ]
  },
  {
   "cell_type": "code",
   "execution_count": 30,
   "id": "16621515",
   "metadata": {},
   "outputs": [
    {
     "data": {
      "text/plain": [
       "review    13319\n",
       "gun       11534\n",
       "gay        7863\n",
       "Name: topic, dtype: int64"
      ]
     },
     "execution_count": 30,
     "metadata": {},
     "output_type": "execute_result"
    }
   ],
   "source": [
    "# Check how balanced the dataset is in terms of topic\n",
    "data['topic'].value_counts()"
   ]
  },
  {
   "cell_type": "markdown",
   "id": "72875203",
   "metadata": {},
   "source": [
    "The dataset is rather well-balanced between the three topics."
   ]
  },
  {
   "cell_type": "code",
   "execution_count": 31,
   "id": "0848b05d",
   "metadata": {},
   "outputs": [
    {
     "data": {
      "text/plain": [
       "Text(0.5, 1.0, 'Distribution of Sentence Typing Times')"
      ]
     },
     "execution_count": 31,
     "metadata": {},
     "output_type": "execute_result"
    },
    {
     "data": {
      "image/png": "[encoded data removed]",
      "text/plain": [
       "<Figure size 432x288 with 1 Axes>"
      ]
     },
     "metadata": {
      "needs_background": "light"
     },
     "output_type": "display_data"
    }
   ],
   "source": [
    "# Check the distribution of speeds\n",
    "plt.hist(data['type_time'], bins=20)\n",
    "plt.title(\"Distribution of Sentence Typing Times\")"
   ]
  },
  {
   "cell_type": "code",
   "execution_count": 32,
   "id": "3d10e4a5",
   "metadata": {},
   "outputs": [
    {
     "data": {
      "text/plain": [
       "count     32716.000000\n",
       "mean      13239.110588\n",
       "std        8183.447503\n",
       "min         193.000000\n",
       "25%        7631.750000\n",
       "50%       11493.500000\n",
       "75%       16742.250000\n",
       "max      120051.000000\n",
       "Name: type_time, dtype: float64"
      ]
     },
     "execution_count": 32,
     "metadata": {},
     "output_type": "execute_result"
    }
   ],
   "source": [
    "data['type_time'].describe()"
   ]
  },
  {
   "cell_type": "code",
   "execution_count": 33,
   "id": "47fcf7b7",
   "metadata": {},
   "outputs": [
    {
     "data": {
      "text/html": [
       "<div>\n",
       "<style scoped>\n",
       "    .dataframe tbody tr th:only-of-type {\n",
       "        vertical-align: middle;\n",
       "    }\n",
       "\n",
       "    .dataframe tbody tr th {\n",
       "        vertical-align: top;\n",
       "    }\n",
       "\n",
       "    .dataframe thead th {\n",
       "        text-align: right;\n",
       "    }\n",
       "</style>\n",
       "<table border=\"1\" class=\"dataframe\">\n",
       "  <thead>\n",
       "    <tr style=\"text-align: right;\">\n",
       "      <th></th>\n",
       "      <th>user_id</th>\n",
       "      <th>sentence</th>\n",
       "      <th>type_time</th>\n",
       "      <th>function_keys</th>\n",
       "      <th>topic</th>\n",
       "      <th>length</th>\n",
       "    </tr>\n",
       "  </thead>\n",
       "  <tbody>\n",
       "    <tr>\n",
       "      <th>4381</th>\n",
       "      <td>A37LY5UTJV2KYZ</td>\n",
       "      <td>I WAS VERY WRONG.</td>\n",
       "      <td>193</td>\n",
       "      <td>0</td>\n",
       "      <td>review</td>\n",
       "      <td>18</td>\n",
       "    </tr>\n",
       "    <tr>\n",
       "      <th>401</th>\n",
       "      <td>A1OYFC4BCV2AJ4</td>\n",
       "      <td>GIVE THEM A SHOT.</td>\n",
       "      <td>198</td>\n",
       "      <td>0</td>\n",
       "      <td>review</td>\n",
       "      <td>18</td>\n",
       "    </tr>\n",
       "    <tr>\n",
       "      <th>9368</th>\n",
       "      <td>A1L7G3CXAMZ0TK</td>\n",
       "      <td>THEREFORE GUN CONTROL IS UTERLY USELES.</td>\n",
       "      <td>199</td>\n",
       "      <td>1</td>\n",
       "      <td>gun</td>\n",
       "      <td>40</td>\n",
       "    </tr>\n",
       "    <tr>\n",
       "      <th>4380</th>\n",
       "      <td>A37LY5UTJV2KYZ</td>\n",
       "      <td>THE PRICES ARE RIGHT.</td>\n",
       "      <td>238</td>\n",
       "      <td>0</td>\n",
       "      <td>review</td>\n",
       "      <td>22</td>\n",
       "    </tr>\n",
       "    <tr>\n",
       "      <th>11326</th>\n",
       "      <td>AQOACE1A37PIK</td>\n",
       "      <td>THEY REPRESENT WHAT WE WERE FOUNDED ON.</td>\n",
       "      <td>265</td>\n",
       "      <td>0</td>\n",
       "      <td>gun</td>\n",
       "      <td>40</td>\n",
       "    </tr>\n",
       "    <tr>\n",
       "      <th>2783</th>\n",
       "      <td>A3UEFIZ8PF8281</td>\n",
       "      <td>YOU ARE NOT ALONE.</td>\n",
       "      <td>277</td>\n",
       "      <td>0</td>\n",
       "      <td>gay</td>\n",
       "      <td>19</td>\n",
       "    </tr>\n",
       "    <tr>\n",
       "      <th>9179</th>\n",
       "      <td>A19C4VNUIIRCPD</td>\n",
       "      <td>GUN CONTROL STARTS AT HOME.</td>\n",
       "      <td>287</td>\n",
       "      <td>0</td>\n",
       "      <td>gun</td>\n",
       "      <td>27</td>\n",
       "    </tr>\n",
       "    <tr>\n",
       "      <th>9366</th>\n",
       "      <td>A1L7G3CXAMZ0TK</td>\n",
       "      <td>I BELIEVE IN THE RIGHT OF EVERY US CITIZEN TO ...</td>\n",
       "      <td>290</td>\n",
       "      <td>3</td>\n",
       "      <td>gun</td>\n",
       "      <td>56</td>\n",
       "    </tr>\n",
       "    <tr>\n",
       "      <th>11325</th>\n",
       "      <td>AQOACE1A37PIK</td>\n",
       "      <td>THEY REPRESENT WHA WE WERET FOUNDED ON.</td>\n",
       "      <td>290</td>\n",
       "      <td>1</td>\n",
       "      <td>gun</td>\n",
       "      <td>40</td>\n",
       "    </tr>\n",
       "    <tr>\n",
       "      <th>5849</th>\n",
       "      <td>A1Q4PWSHDWPH1Q</td>\n",
       "      <td>CUSTOMER SERVICE WAS AMAZING.</td>\n",
       "      <td>296</td>\n",
       "      <td>0</td>\n",
       "      <td>review</td>\n",
       "      <td>30</td>\n",
       "    </tr>\n",
       "  </tbody>\n",
       "</table>\n",
       "</div>"
      ],
      "text/plain": [
       "              user_id                                           sentence  \\\n",
       "4381   A37LY5UTJV2KYZ                                  I WAS VERY WRONG.   \n",
       "401    A1OYFC4BCV2AJ4                                  GIVE THEM A SHOT.   \n",
       "9368   A1L7G3CXAMZ0TK            THEREFORE GUN CONTROL IS UTERLY USELES.   \n",
       "4380   A37LY5UTJV2KYZ                              THE PRICES ARE RIGHT.   \n",
       "11326   AQOACE1A37PIK            THEY REPRESENT WHAT WE WERE FOUNDED ON.   \n",
       "2783   A3UEFIZ8PF8281                                 YOU ARE NOT ALONE.   \n",
       "9179   A19C4VNUIIRCPD                        GUN CONTROL STARTS AT HOME.   \n",
       "9366   A1L7G3CXAMZ0TK  I BELIEVE IN THE RIGHT OF EVERY US CITIZEN TO ...   \n",
       "11325   AQOACE1A37PIK            THEY REPRESENT WHA WE WERET FOUNDED ON.   \n",
       "5849   A1Q4PWSHDWPH1Q                      CUSTOMER SERVICE WAS AMAZING.   \n",
       "\n",
       "       type_time  function_keys   topic  length  \n",
       "4381         193              0  review      18  \n",
       "401          198              0  review      18  \n",
       "9368         199              1     gun      40  \n",
       "4380         238              0  review      22  \n",
       "11326        265              0     gun      40  \n",
       "2783         277              0     gay      19  \n",
       "9179         287              0     gun      27  \n",
       "9366         290              3     gun      56  \n",
       "11325        290              1     gun      40  \n",
       "5849         296              0  review      30  "
      ]
     },
     "execution_count": 33,
     "metadata": {},
     "output_type": "execute_result"
    }
   ],
   "source": [
    "# 10 sentences that took shortest time to type\n",
    "data.sort_values(by='type_time').head(10)"
   ]
  },
  {
   "cell_type": "code",
   "execution_count": 34,
   "id": "655231f6",
   "metadata": {},
   "outputs": [
    {
     "data": {
      "text/html": [
       "<div>\n",
       "<style scoped>\n",
       "    .dataframe tbody tr th:only-of-type {\n",
       "        vertical-align: middle;\n",
       "    }\n",
       "\n",
       "    .dataframe tbody tr th {\n",
       "        vertical-align: top;\n",
       "    }\n",
       "\n",
       "    .dataframe thead th {\n",
       "        text-align: right;\n",
       "    }\n",
       "</style>\n",
       "<table border=\"1\" class=\"dataframe\">\n",
       "  <thead>\n",
       "    <tr style=\"text-align: right;\">\n",
       "      <th></th>\n",
       "      <th>user_id</th>\n",
       "      <th>sentence</th>\n",
       "      <th>type_time</th>\n",
       "      <th>function_keys</th>\n",
       "      <th>topic</th>\n",
       "      <th>length</th>\n",
       "    </tr>\n",
       "  </thead>\n",
       "  <tbody>\n",
       "    <tr>\n",
       "      <th>582</th>\n",
       "      <td>A1XC59S9X41ZHO</td>\n",
       "      <td>IF ONE SUPORTS GAY RIGHTTHE RIGHTS OF GAY PEO...</td>\n",
       "      <td>120051</td>\n",
       "      <td>36</td>\n",
       "      <td>gay</td>\n",
       "      <td>637</td>\n",
       "    </tr>\n",
       "    <tr>\n",
       "      <th>4815</th>\n",
       "      <td>A3TM7MRDB2KEPH</td>\n",
       "      <td>THE RECOGNITION OF IF TWO MEN CAN MARY EACH OT...</td>\n",
       "      <td>111245</td>\n",
       "      <td>39</td>\n",
       "      <td>gay</td>\n",
       "      <td>568</td>\n",
       "    </tr>\n",
       "    <tr>\n",
       "      <th>5773</th>\n",
       "      <td>A1M907BJPOLBU1</td>\n",
       "      <td>THE ARGUMENTS THATTHAT CURENTLY SOPSCURENTLY ...</td>\n",
       "      <td>94351</td>\n",
       "      <td>31</td>\n",
       "      <td>gay</td>\n",
       "      <td>509</td>\n",
       "    </tr>\n",
       "    <tr>\n",
       "      <th>9228</th>\n",
       "      <td>A1GFLU1X1ZIIRI</td>\n",
       "      <td>, AND TAKE RESPONSIBOLITYAGAGRE TO TAKE RESPON...</td>\n",
       "      <td>85129</td>\n",
       "      <td>45</td>\n",
       "      <td>gun</td>\n",
       "      <td>451</td>\n",
       "    </tr>\n",
       "    <tr>\n",
       "      <th>9413</th>\n",
       "      <td>A1RJIYXSI5QAHH</td>\n",
       "      <td>IT IS ALSO GIVING UPA HUGEO OUR L IT IS OUR L...</td>\n",
       "      <td>83063</td>\n",
       "      <td>58</td>\n",
       "      <td>gun</td>\n",
       "      <td>396</td>\n",
       "    </tr>\n",
       "    <tr>\n",
       "      <th>3684</th>\n",
       "      <td>A2HR27LMSYOEH3</td>\n",
       "      <td>I PREFER THEIR GREAT WHGREAT WHITE BITES AND ...</td>\n",
       "      <td>83031</td>\n",
       "      <td>42</td>\n",
       "      <td>review</td>\n",
       "      <td>429</td>\n",
       "    </tr>\n",
       "    <tr>\n",
       "      <th>5331</th>\n",
       "      <td>A3U68JIBPQVMSL</td>\n",
       "      <td>SO ARE WE REALYLY WILING TO RISK OPENING THED...</td>\n",
       "      <td>80276</td>\n",
       "      <td>35</td>\n",
       "      <td>gun</td>\n",
       "      <td>419</td>\n",
       "    </tr>\n",
       "    <tr>\n",
       "      <th>4816</th>\n",
       "      <td>A3TM7MRDB2KEPH</td>\n",
       "      <td>IFF TWO MEN CAN MARY EACH OTHER, WHY NOT FIVE...</td>\n",
       "      <td>77263</td>\n",
       "      <td>21</td>\n",
       "      <td>gay</td>\n",
       "      <td>462</td>\n",
       "    </tr>\n",
       "    <tr>\n",
       "      <th>1776</th>\n",
       "      <td>A3I9PEFJ88TUFN</td>\n",
       "      <td>\" BY GRANTING TGAYS, THE RIGHT TO THE SAME TRE...</td>\n",
       "      <td>76793</td>\n",
       "      <td>28</td>\n",
       "      <td>gay</td>\n",
       "      <td>487</td>\n",
       "    </tr>\n",
       "    <tr>\n",
       "      <th>8621</th>\n",
       "      <td>AS21DAOA4V0SG</td>\n",
       "      <td>HAHNDGUNS NED BETECONTINUE IMPROVHANDGUNVIOLE...</td>\n",
       "      <td>74916</td>\n",
       "      <td>58</td>\n",
       "      <td>gun</td>\n",
       "      <td>450</td>\n",
       "    </tr>\n",
       "  </tbody>\n",
       "</table>\n",
       "</div>"
      ],
      "text/plain": [
       "             user_id                                           sentence  \\\n",
       "582   A1XC59S9X41ZHO   IF ONE SUPORTS GAY RIGHTTHE RIGHTS OF GAY PEO...   \n",
       "4815  A3TM7MRDB2KEPH  THE RECOGNITION OF IF TWO MEN CAN MARY EACH OT...   \n",
       "5773  A1M907BJPOLBU1   THE ARGUMENTS THATTHAT CURENTLY SOPSCURENTLY ...   \n",
       "9228  A1GFLU1X1ZIIRI  , AND TAKE RESPONSIBOLITYAGAGRE TO TAKE RESPON...   \n",
       "9413  A1RJIYXSI5QAHH   IT IS ALSO GIVING UPA HUGEO OUR L IT IS OUR L...   \n",
       "3684  A2HR27LMSYOEH3   I PREFER THEIR GREAT WHGREAT WHITE BITES AND ...   \n",
       "5331  A3U68JIBPQVMSL   SO ARE WE REALYLY WILING TO RISK OPENING THED...   \n",
       "4816  A3TM7MRDB2KEPH   IFF TWO MEN CAN MARY EACH OTHER, WHY NOT FIVE...   \n",
       "1776  A3I9PEFJ88TUFN  \" BY GRANTING TGAYS, THE RIGHT TO THE SAME TRE...   \n",
       "8621   AS21DAOA4V0SG   HAHNDGUNS NED BETECONTINUE IMPROVHANDGUNVIOLE...   \n",
       "\n",
       "      type_time  function_keys   topic  length  \n",
       "582      120051             36     gay     637  \n",
       "4815     111245             39     gay     568  \n",
       "5773      94351             31     gay     509  \n",
       "9228      85129             45     gun     451  \n",
       "9413      83063             58     gun     396  \n",
       "3684      83031             42  review     429  \n",
       "5331      80276             35     gun     419  \n",
       "4816      77263             21     gay     462  \n",
       "1776      76793             28     gay     487  \n",
       "8621      74916             58     gun     450  "
      ]
     },
     "execution_count": 34,
     "metadata": {},
     "output_type": "execute_result"
    }
   ],
   "source": [
    "# 10 sentences that took longest time to type\n",
    "data.sort_values(by='type_time', ascending=False).head(10)"
   ]
  },
  {
   "cell_type": "code",
   "execution_count": 35,
   "id": "20d6cc82",
   "metadata": {},
   "outputs": [
    {
     "data": {
      "text/html": [
       "<div>\n",
       "<style scoped>\n",
       "    .dataframe tbody tr th:only-of-type {\n",
       "        vertical-align: middle;\n",
       "    }\n",
       "\n",
       "    .dataframe tbody tr th {\n",
       "        vertical-align: top;\n",
       "    }\n",
       "\n",
       "    .dataframe thead th {\n",
       "        text-align: right;\n",
       "    }\n",
       "</style>\n",
       "<table border=\"1\" class=\"dataframe\">\n",
       "  <thead>\n",
       "    <tr style=\"text-align: right;\">\n",
       "      <th></th>\n",
       "      <th>user_id</th>\n",
       "      <th>sentence</th>\n",
       "      <th>type_time</th>\n",
       "      <th>function_keys</th>\n",
       "      <th>topic</th>\n",
       "      <th>length</th>\n",
       "    </tr>\n",
       "  </thead>\n",
       "  <tbody>\n",
       "    <tr>\n",
       "      <th>12697</th>\n",
       "      <td>ARYH49BS0B1RS</td>\n",
       "      <td>VIVILA MOSCONI IS IN BEAUTIFUL, ECLECTICLECTIC...</td>\n",
       "      <td>18699</td>\n",
       "      <td>73</td>\n",
       "      <td>review</td>\n",
       "      <td>6291</td>\n",
       "    </tr>\n",
       "    <tr>\n",
       "      <th>4166</th>\n",
       "      <td>A3554U8JNGM904</td>\n",
       "      <td>WE DO NOT WANT TO SOUR CHILDREN OTO SE SUCH A...</td>\n",
       "      <td>14230</td>\n",
       "      <td>31</td>\n",
       "      <td>gay</td>\n",
       "      <td>5446</td>\n",
       "    </tr>\n",
       "    <tr>\n",
       "      <th>279</th>\n",
       "      <td>A1HK2QWRGZT46N</td>\n",
       "      <td>¿I¿N ORDER TO PREACH TO OTHER COUNTRIES THAT ...</td>\n",
       "      <td>18123</td>\n",
       "      <td>13</td>\n",
       "      <td>gay</td>\n",
       "      <td>2721</td>\n",
       "    </tr>\n",
       "    <tr>\n",
       "      <th>1111</th>\n",
       "      <td>A2E0Y8VVC4TQA9</td>\n",
       "      <td>THE RIGHT TO BEAR ARMS IS IMPORTANT FOR HOME ...</td>\n",
       "      <td>29528</td>\n",
       "      <td>21</td>\n",
       "      <td>gun</td>\n",
       "      <td>2508</td>\n",
       "    </tr>\n",
       "    <tr>\n",
       "      <th>7046</th>\n",
       "      <td>A2I4A4WGWII18Z</td>\n",
       "      <td>KEPING THE GOVERNMENT OUT OF MY OEPERSONAL RI...</td>\n",
       "      <td>16994</td>\n",
       "      <td>19</td>\n",
       "      <td>gun</td>\n",
       "      <td>1950</td>\n",
       "    </tr>\n",
       "    <tr>\n",
       "      <th>9467</th>\n",
       "      <td>A1S873CM6A3XXA</td>\n",
       "      <td>I ¿BELIEVE THAT WE SHOULD NEVER HAVNOT HAVE GU...</td>\n",
       "      <td>70586</td>\n",
       "      <td>13</td>\n",
       "      <td>gun</td>\n",
       "      <td>673</td>\n",
       "    </tr>\n",
       "    <tr>\n",
       "      <th>9468</th>\n",
       "      <td>A1S873CM6A3XXA</td>\n",
       "      <td>¿I¿ BELIEVE THAT WE SHOULD NOT HAVE GUN CONTRO...</td>\n",
       "      <td>68562</td>\n",
       "      <td>11</td>\n",
       "      <td>gun</td>\n",
       "      <td>667</td>\n",
       "    </tr>\n",
       "    <tr>\n",
       "      <th>2262</th>\n",
       "      <td>A3QAIABUJV1GAO</td>\n",
       "      <td>¿COUNTLES LIVES HAVE BEN LOSINOCENT LIVES HAV...</td>\n",
       "      <td>72670</td>\n",
       "      <td>20</td>\n",
       "      <td>gun</td>\n",
       "      <td>637</td>\n",
       "    </tr>\n",
       "    <tr>\n",
       "      <th>582</th>\n",
       "      <td>A1XC59S9X41ZHO</td>\n",
       "      <td>IF ONE SUPORTS GAY RIGHTTHE RIGHTS OF GAY PEO...</td>\n",
       "      <td>120051</td>\n",
       "      <td>36</td>\n",
       "      <td>gay</td>\n",
       "      <td>637</td>\n",
       "    </tr>\n",
       "    <tr>\n",
       "      <th>6223</th>\n",
       "      <td>A1M907BJPOLBU1</td>\n",
       "      <td>¿I¿ SUPORT GUN CTRONTROL BECAUSEF NUMEROUS REA...</td>\n",
       "      <td>67036</td>\n",
       "      <td>18</td>\n",
       "      <td>gun</td>\n",
       "      <td>607</td>\n",
       "    </tr>\n",
       "  </tbody>\n",
       "</table>\n",
       "</div>"
      ],
      "text/plain": [
       "              user_id                                           sentence  \\\n",
       "12697   ARYH49BS0B1RS  VIVILA MOSCONI IS IN BEAUTIFUL, ECLECTICLECTIC...   \n",
       "4166   A3554U8JNGM904   WE DO NOT WANT TO SOUR CHILDREN OTO SE SUCH A...   \n",
       "279    A1HK2QWRGZT46N   ¿I¿N ORDER TO PREACH TO OTHER COUNTRIES THAT ...   \n",
       "1111   A2E0Y8VVC4TQA9   THE RIGHT TO BEAR ARMS IS IMPORTANT FOR HOME ...   \n",
       "7046   A2I4A4WGWII18Z   KEPING THE GOVERNMENT OUT OF MY OEPERSONAL RI...   \n",
       "9467   A1S873CM6A3XXA  I ¿BELIEVE THAT WE SHOULD NEVER HAVNOT HAVE GU...   \n",
       "9468   A1S873CM6A3XXA  ¿I¿ BELIEVE THAT WE SHOULD NOT HAVE GUN CONTRO...   \n",
       "2262   A3QAIABUJV1GAO   ¿COUNTLES LIVES HAVE BEN LOSINOCENT LIVES HAV...   \n",
       "582    A1XC59S9X41ZHO   IF ONE SUPORTS GAY RIGHTTHE RIGHTS OF GAY PEO...   \n",
       "6223   A1M907BJPOLBU1  ¿I¿ SUPORT GUN CTRONTROL BECAUSEF NUMEROUS REA...   \n",
       "\n",
       "       type_time  function_keys   topic  length  \n",
       "12697      18699             73  review    6291  \n",
       "4166       14230             31     gay    5446  \n",
       "279        18123             13     gay    2721  \n",
       "1111       29528             21     gun    2508  \n",
       "7046       16994             19     gun    1950  \n",
       "9467       70586             13     gun     673  \n",
       "9468       68562             11     gun     667  \n",
       "2262       72670             20     gun     637  \n",
       "582       120051             36     gay     637  \n",
       "6223       67036             18     gun     607  "
      ]
     },
     "execution_count": 35,
     "metadata": {},
     "output_type": "execute_result"
    }
   ],
   "source": [
    "# 10 longest sentences by number of characters\n",
    "data.sort_values(by='length', ascending=False).head(10)"
   ]
  },
  {
   "cell_type": "markdown",
   "id": "d4b3f163",
   "metadata": {},
   "source": [
    "We should remove the length outliers from the data but not the typing time outliers."
   ]
  },
  {
   "cell_type": "code",
   "execution_count": 36,
   "id": "841ef55b",
   "metadata": {},
   "outputs": [],
   "source": [
    "data = data[data['length'] < 700]"
   ]
  },
  {
   "cell_type": "code",
   "execution_count": 37,
   "id": "4f39cc33",
   "metadata": {},
   "outputs": [
    {
     "data": {
      "text/plain": [
       "Text(0, 0.5, 'Time to Type Sentence')"
      ]
     },
     "execution_count": 37,
     "metadata": {},
     "output_type": "execute_result"
    },
    {
     "data": {
      "image/png": "[encoded data removed]",
      "text/plain": [
       "<Figure size 432x288 with 1 Axes>"
      ]
     },
     "metadata": {
      "needs_background": "light"
     },
     "output_type": "display_data"
    }
   ],
   "source": [
    "plt.scatter(data['length'], data['type_time'])\n",
    "plt.title('Length vs. Typing Speed Plot Without Outliers')\n",
    "plt.xlabel('Length of Sentence')\n",
    "plt.ylabel('Time to Type Sentence')"
   ]
  },
  {
   "cell_type": "code",
   "execution_count": 38,
   "id": "216c2afe",
   "metadata": {},
   "outputs": [],
   "source": [
    "data.to_csv('../data/data_cleaned.csv', index=False)"
   ]
  },
  {
   "cell_type": "code",
   "execution_count": null,
   "id": "3def9c97",
   "metadata": {},
   "outputs": [],
   "source": []
  }
 ],
 "metadata": {
  "kernelspec": {
   "display_name": "Python 3",
   "language": "python",
   "name": "python3"
  },
  "language_info": {
   "codemirror_mode": {
    "name": "ipython",
    "version": 3
   },
   "file_extension": ".py",
   "mimetype": "text/x-python",
   "name": "python",
   "nbconvert_exporter": "python",
   "pygments_lexer": "ipython3",
   "version": "3.8.8"
  }
 },
 "nbformat": 4,
 "nbformat_minor": 5
}
