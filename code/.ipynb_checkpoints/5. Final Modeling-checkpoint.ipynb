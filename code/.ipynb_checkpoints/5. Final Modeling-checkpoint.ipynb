{
 "cells": [
  {
   "cell_type": "markdown",
   "id": "d8e7af63",
   "metadata": {},
   "source": [
    "# Part 5: Creating the Final Model"
   ]
  },
  {
   "cell_type": "code",
   "execution_count": 1,
   "id": "31971fd8",
   "metadata": {},
   "outputs": [],
   "source": [
    "import pandas as pd\n",
    "from sklearn.model_selection import train_test_split\n",
    "from sklearn.preprocessing import StandardScaler\n",
    "from sklearn.linear_model import LinearRegression\n",
    "from sklearn.tree import DecisionTreeRegressor\n",
    "from sklearn.ensemble import BaggingRegressor, RandomForestRegressor"
   ]
  },
  {
   "cell_type": "code",
   "execution_count": 2,
   "id": "f0ced39d",
   "metadata": {},
   "outputs": [],
   "source": [
    "data = pd.read_csv('../data/data_with_letters.csv')"
   ]
  },
  {
   "cell_type": "code",
   "execution_count": 3,
   "id": "bddd54e3",
   "metadata": {},
   "outputs": [
    {
     "data": {
      "text/plain": [
       "Index(['Unnamed: 0', 'Unnamed: 0.1', 'Unnamed: 0.1.1', 'user_id', 'sentence',\n",
       "       'type_time', 'function_keys', 'topic', 'length', 'thethe', 'tha',\n",
       "       'health', 'consenting', 'sandy', 'wouldn', 'hte', 'fof', 'considering',\n",
       "       'walked', 'sentiment', 'about_gay', 'about_gun', 'contains_E',\n",
       "       'contains_I', 'contains_T', 'contains_R', 'contains_O', 'contains_A',\n",
       "       'contains_S', 'contains_N', 'contains_L'],\n",
       "      dtype='object')"
      ]
     },
     "execution_count": 3,
     "metadata": {},
     "output_type": "execute_result"
    }
   ],
   "source": [
    "data.columns"
   ]
  },
  {
   "cell_type": "code",
   "execution_count": 4,
   "id": "3a71883b",
   "metadata": {},
   "outputs": [],
   "source": [
    "# Dropping columns that will not be used in either X or y\n",
    "data.drop(columns = ['Unnamed: 0', 'Unnamed: 0.1', 'Unnamed: 0.1.1', \n",
    "                     'user_id', 'sentence', 'topic', 'about_gay', 'about_gun', 'length'],\n",
    "         inplace = True)"
   ]
  },
  {
   "cell_type": "code",
   "execution_count": 5,
   "id": "b43a5b54",
   "metadata": {},
   "outputs": [],
   "source": [
    "X = data.drop(columns = ['type_time'])\n",
    "y = data['type_time']"
   ]
  },
  {
   "cell_type": "code",
   "execution_count": 6,
   "id": "01a9e5d5",
   "metadata": {},
   "outputs": [],
   "source": [
    "X_train, X_test, y_train, y_test = train_test_split(X, y, random_state=42, test_size=0.2)"
   ]
  },
  {
   "cell_type": "code",
   "execution_count": 7,
   "id": "5ede8b88",
   "metadata": {},
   "outputs": [],
   "source": [
    "ss = StandardScaler()\n",
    "Xs_train = ss.fit_transform(X_train)\n",
    "Xs_test = ss.transform(X_test)"
   ]
  },
  {
   "cell_type": "code",
   "execution_count": 8,
   "id": "948710bc",
   "metadata": {},
   "outputs": [
    {
     "data": {
      "text/plain": [
       "0.8507275661015299"
      ]
     },
     "execution_count": 8,
     "metadata": {},
     "output_type": "execute_result"
    }
   ],
   "source": [
    "lr = LinearRegression()\n",
    "lr.fit(Xs_train, y_train)\n",
    "lr.score(Xs_train, y_train)"
   ]
  },
  {
   "cell_type": "code",
   "execution_count": 9,
   "id": "60aacb75",
   "metadata": {},
   "outputs": [
    {
     "data": {
      "text/plain": [
       "0.8545258872860904"
      ]
     },
     "execution_count": 9,
     "metadata": {},
     "output_type": "execute_result"
    }
   ],
   "source": [
    "lr.score(Xs_test, y_test)"
   ]
  },
  {
   "cell_type": "code",
   "execution_count": 10,
   "id": "146d0b51",
   "metadata": {},
   "outputs": [
    {
     "data": {
      "text/plain": [
       "0.999907148234461"
      ]
     },
     "execution_count": 10,
     "metadata": {},
     "output_type": "execute_result"
    }
   ],
   "source": [
    "dtr = DecisionTreeRegressor()\n",
    "dtr.fit(Xs_train, y_train)\n",
    "dtr.score(Xs_train, y_train)"
   ]
  },
  {
   "cell_type": "code",
   "execution_count": 11,
   "id": "50dd8086",
   "metadata": {},
   "outputs": [
    {
     "data": {
      "text/plain": [
       "0.7140487128133897"
      ]
     },
     "execution_count": 11,
     "metadata": {},
     "output_type": "execute_result"
    }
   ],
   "source": [
    "dtr.score(Xs_test, y_test)"
   ]
  },
  {
   "cell_type": "code",
   "execution_count": 12,
   "id": "d9895d7b",
   "metadata": {},
   "outputs": [
    {
     "data": {
      "text/plain": [
       "0.970523502231382"
      ]
     },
     "execution_count": 12,
     "metadata": {},
     "output_type": "execute_result"
    }
   ],
   "source": [
    "br = BaggingRegressor()\n",
    "br.fit(Xs_train, y_train)\n",
    "br.score(Xs_train, y_train)"
   ]
  },
  {
   "cell_type": "code",
   "execution_count": 13,
   "id": "a71bb1b2",
   "metadata": {},
   "outputs": [
    {
     "data": {
      "text/plain": [
       "0.849127458681961"
      ]
     },
     "execution_count": 13,
     "metadata": {},
     "output_type": "execute_result"
    }
   ],
   "source": [
    "br.score(Xs_test, y_test)"
   ]
  },
  {
   "cell_type": "code",
   "execution_count": 14,
   "id": "13c322fb",
   "metadata": {},
   "outputs": [
    {
     "data": {
      "text/plain": [
       "0.9795546940577183"
      ]
     },
     "execution_count": 14,
     "metadata": {},
     "output_type": "execute_result"
    }
   ],
   "source": [
    "rfr = RandomForestRegressor()\n",
    "rfr.fit(Xs_train, y_train)\n",
    "rfr.score(Xs_train, y_train)"
   ]
  },
  {
   "cell_type": "code",
   "execution_count": 15,
   "id": "e2a24b98",
   "metadata": {},
   "outputs": [
    {
     "data": {
      "text/plain": [
       "0.8621494146217465"
      ]
     },
     "execution_count": 15,
     "metadata": {},
     "output_type": "execute_result"
    }
   ],
   "source": [
    "rfr.score(Xs_test, y_test)"
   ]
  },
  {
   "cell_type": "code",
   "execution_count": 16,
   "id": "6d3fa09b",
   "metadata": {},
   "outputs": [
    {
     "data": {
      "text/html": [
       "<div>\n",
       "<style scoped>\n",
       "    .dataframe tbody tr th:only-of-type {\n",
       "        vertical-align: middle;\n",
       "    }\n",
       "\n",
       "    .dataframe tbody tr th {\n",
       "        vertical-align: top;\n",
       "    }\n",
       "\n",
       "    .dataframe thead th {\n",
       "        text-align: right;\n",
       "    }\n",
       "</style>\n",
       "<table border=\"1\" class=\"dataframe\">\n",
       "  <thead>\n",
       "    <tr style=\"text-align: right;\">\n",
       "      <th></th>\n",
       "      <th>coef</th>\n",
       "    </tr>\n",
       "  </thead>\n",
       "  <tbody>\n",
       "    <tr>\n",
       "      <th>contains_E</th>\n",
       "      <td>0.569566</td>\n",
       "    </tr>\n",
       "    <tr>\n",
       "      <th>function_keys</th>\n",
       "      <td>0.123737</td>\n",
       "    </tr>\n",
       "    <tr>\n",
       "      <th>contains_O</th>\n",
       "      <td>0.063329</td>\n",
       "    </tr>\n",
       "    <tr>\n",
       "      <th>contains_T</th>\n",
       "      <td>0.054368</td>\n",
       "    </tr>\n",
       "    <tr>\n",
       "      <th>contains_A</th>\n",
       "      <td>0.052789</td>\n",
       "    </tr>\n",
       "    <tr>\n",
       "      <th>contains_I</th>\n",
       "      <td>0.042359</td>\n",
       "    </tr>\n",
       "    <tr>\n",
       "      <th>contains_N</th>\n",
       "      <td>0.022275</td>\n",
       "    </tr>\n",
       "    <tr>\n",
       "      <th>sentiment</th>\n",
       "      <td>0.020253</td>\n",
       "    </tr>\n",
       "    <tr>\n",
       "      <th>contains_S</th>\n",
       "      <td>0.018336</td>\n",
       "    </tr>\n",
       "    <tr>\n",
       "      <th>contains_R</th>\n",
       "      <td>0.015814</td>\n",
       "    </tr>\n",
       "    <tr>\n",
       "      <th>contains_L</th>\n",
       "      <td>0.015266</td>\n",
       "    </tr>\n",
       "    <tr>\n",
       "      <th>health</th>\n",
       "      <td>0.000541</td>\n",
       "    </tr>\n",
       "    <tr>\n",
       "      <th>wouldn</th>\n",
       "      <td>0.000248</td>\n",
       "    </tr>\n",
       "    <tr>\n",
       "      <th>hte</th>\n",
       "      <td>0.000221</td>\n",
       "    </tr>\n",
       "    <tr>\n",
       "      <th>thethe</th>\n",
       "      <td>0.000209</td>\n",
       "    </tr>\n",
       "    <tr>\n",
       "      <th>walked</th>\n",
       "      <td>0.000198</td>\n",
       "    </tr>\n",
       "    <tr>\n",
       "      <th>consenting</th>\n",
       "      <td>0.000156</td>\n",
       "    </tr>\n",
       "    <tr>\n",
       "      <th>tha</th>\n",
       "      <td>0.000141</td>\n",
       "    </tr>\n",
       "    <tr>\n",
       "      <th>fof</th>\n",
       "      <td>0.000122</td>\n",
       "    </tr>\n",
       "    <tr>\n",
       "      <th>sandy</th>\n",
       "      <td>0.000042</td>\n",
       "    </tr>\n",
       "    <tr>\n",
       "      <th>considering</th>\n",
       "      <td>0.000030</td>\n",
       "    </tr>\n",
       "  </tbody>\n",
       "</table>\n",
       "</div>"
      ],
      "text/plain": [
       "                   coef\n",
       "contains_E     0.569566\n",
       "function_keys  0.123737\n",
       "contains_O     0.063329\n",
       "contains_T     0.054368\n",
       "contains_A     0.052789\n",
       "contains_I     0.042359\n",
       "contains_N     0.022275\n",
       "sentiment      0.020253\n",
       "contains_S     0.018336\n",
       "contains_R     0.015814\n",
       "contains_L     0.015266\n",
       "health         0.000541\n",
       "wouldn         0.000248\n",
       "hte            0.000221\n",
       "thethe         0.000209\n",
       "walked         0.000198\n",
       "consenting     0.000156\n",
       "tha            0.000141\n",
       "fof            0.000122\n",
       "sandy          0.000042\n",
       "considering    0.000030"
      ]
     },
     "execution_count": 16,
     "metadata": {},
     "output_type": "execute_result"
    }
   ],
   "source": [
    "coef = pd.DataFrame(rfr.feature_importances_, columns = ['coef'], index = X.columns)\n",
    "coef.sort_values('coef', ascending = False)"
   ]
  },
  {
   "cell_type": "markdown",
   "id": "a3245f86",
   "metadata": {},
   "source": [
    "Since the 10 words with the highest impact on typing time have low coefficients, we can try to drop them and see if the model improves."
   ]
  },
  {
   "cell_type": "code",
   "execution_count": 17,
   "id": "dd036dd4",
   "metadata": {},
   "outputs": [],
   "source": [
    "X.drop(columns = ['thethe', 'tha', 'health', 'consenting', 'sandy',\n",
    "                  'wouldn', 'hte', 'fof', 'considering', 'walked'],\n",
    "       inplace = True)"
   ]
  },
  {
   "cell_type": "code",
   "execution_count": 18,
   "id": "75202a56",
   "metadata": {},
   "outputs": [],
   "source": [
    "X_train, X_test, y_train, y_test = train_test_split(X, y, random_state=42, test_size=0.2)"
   ]
  },
  {
   "cell_type": "code",
   "execution_count": 19,
   "id": "31cfa03e",
   "metadata": {},
   "outputs": [],
   "source": [
    "ss = StandardScaler()\n",
    "Xs_train = ss.fit_transform(X_train)\n",
    "Xs_test = ss.transform(X_test)"
   ]
  },
  {
   "cell_type": "code",
   "execution_count": 20,
   "id": "e468448a",
   "metadata": {},
   "outputs": [
    {
     "data": {
      "text/plain": [
       "0.9798118894374178"
      ]
     },
     "execution_count": 20,
     "metadata": {},
     "output_type": "execute_result"
    }
   ],
   "source": [
    "rfr = RandomForestRegressor()\n",
    "rfr.fit(Xs_train, y_train)\n",
    "rfr.score(Xs_train, y_train)"
   ]
  },
  {
   "cell_type": "code",
   "execution_count": 21,
   "id": "b50a9297",
   "metadata": {},
   "outputs": [
    {
     "data": {
      "text/plain": [
       "0.8624630650025346"
      ]
     },
     "execution_count": 21,
     "metadata": {},
     "output_type": "execute_result"
    }
   ],
   "source": [
    "rfr.score(Xs_test, y_test)"
   ]
  },
  {
   "cell_type": "markdown",
   "id": "ad0f62cd",
   "metadata": {},
   "source": [
    "The accuracy only slightly increases for the training set and decreases for the test set, so it appears the 10 words help prevent overfitting."
   ]
  },
  {
   "cell_type": "markdown",
   "id": "2b3735f2",
   "metadata": {},
   "source": [
    "## Conclusion"
   ]
  },
  {
   "cell_type": "markdown",
   "id": "ef1e0120",
   "metadata": {},
   "source": [
    "Out of every model we have seen in this project, the best-performing model is the random forest regressor with the predictors being the 10 most impactful words, the 9 most impactful letters, the number of function keys, and the sentiment."
   ]
  }
 ],
 "metadata": {
  "kernelspec": {
   "display_name": "Python 3",
   "language": "python",
   "name": "python3"
  },
  "language_info": {
   "codemirror_mode": {
    "name": "ipython",
    "version": 3
   },
   "file_extension": ".py",
   "mimetype": "text/x-python",
   "name": "python",
   "nbconvert_exporter": "python",
   "pygments_lexer": "ipython3",
   "version": "3.8.8"
  }
 },
 "nbformat": 4,
 "nbformat_minor": 5
}
