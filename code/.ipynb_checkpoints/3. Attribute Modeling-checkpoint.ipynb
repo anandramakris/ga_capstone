{
 "cells": [
  {
   "cell_type": "markdown",
   "id": "e7f7fe3e",
   "metadata": {},
   "source": [
    "# Part 3: Attribute Modeling"
   ]
  },
  {
   "cell_type": "code",
   "execution_count": 36,
   "id": "60142cdf",
   "metadata": {},
   "outputs": [],
   "source": [
    "import pandas as pd\n",
    "import matplotlib.pyplot as plt\n",
    "from sklearn.model_selection import train_test_split\n",
    "from sklearn.preprocessing import StandardScaler\n",
    "from nltk.sentiment.vader import SentimentIntensityAnalyzer\n",
    "from sklearn.linear_model import LinearRegression\n",
    "from sklearn.tree import DecisionTreeRegressor\n",
    "from sklearn.ensemble import BaggingRegressor, RandomForestRegressor"
   ]
  },
  {
   "cell_type": "code",
   "execution_count": 37,
   "id": "86e28023",
   "metadata": {},
   "outputs": [],
   "source": [
    "data = pd.read_csv('../data/data_with_words.csv')"
   ]
  },
  {
   "cell_type": "code",
   "execution_count": 38,
   "id": "02762f46",
   "metadata": {},
   "outputs": [
    {
     "data": {
      "text/html": [
       "<div>\n",
       "<style scoped>\n",
       "    .dataframe tbody tr th:only-of-type {\n",
       "        vertical-align: middle;\n",
       "    }\n",
       "\n",
       "    .dataframe tbody tr th {\n",
       "        vertical-align: top;\n",
       "    }\n",
       "\n",
       "    .dataframe thead th {\n",
       "        text-align: right;\n",
       "    }\n",
       "</style>\n",
       "<table border=\"1\" class=\"dataframe\">\n",
       "  <thead>\n",
       "    <tr style=\"text-align: right;\">\n",
       "      <th></th>\n",
       "      <th>Unnamed: 0</th>\n",
       "      <th>user_id</th>\n",
       "      <th>sentence</th>\n",
       "      <th>type_time</th>\n",
       "      <th>function_keys</th>\n",
       "      <th>topic</th>\n",
       "      <th>length</th>\n",
       "      <th>thethe</th>\n",
       "      <th>tha</th>\n",
       "      <th>health</th>\n",
       "      <th>consenting</th>\n",
       "      <th>sandy</th>\n",
       "      <th>wouldn</th>\n",
       "      <th>hte</th>\n",
       "      <th>fof</th>\n",
       "      <th>considering</th>\n",
       "      <th>walked</th>\n",
       "    </tr>\n",
       "  </thead>\n",
       "  <tbody>\n",
       "    <tr>\n",
       "      <th>0</th>\n",
       "      <td>0</td>\n",
       "      <td>A12WI1MRO70881</td>\n",
       "      <td>LET THERE BE OTHER FORMS OF ESTABLISHINA DOME...</td>\n",
       "      <td>43693</td>\n",
       "      <td>22</td>\n",
       "      <td>gay</td>\n",
       "      <td>406</td>\n",
       "      <td>0</td>\n",
       "      <td>0</td>\n",
       "      <td>0</td>\n",
       "      <td>0</td>\n",
       "      <td>0</td>\n",
       "      <td>0</td>\n",
       "      <td>0</td>\n",
       "      <td>0</td>\n",
       "      <td>0</td>\n",
       "      <td>0</td>\n",
       "    </tr>\n",
       "    <tr>\n",
       "      <th>1</th>\n",
       "      <td>1</td>\n",
       "      <td>A12WI1MRO70881</td>\n",
       "      <td>LET THERE BE LEGALY RECOGNIZED DOMSESTIC PART...</td>\n",
       "      <td>34515</td>\n",
       "      <td>11</td>\n",
       "      <td>gay</td>\n",
       "      <td>387</td>\n",
       "      <td>0</td>\n",
       "      <td>0</td>\n",
       "      <td>0</td>\n",
       "      <td>0</td>\n",
       "      <td>0</td>\n",
       "      <td>0</td>\n",
       "      <td>0</td>\n",
       "      <td>0</td>\n",
       "      <td>0</td>\n",
       "      <td>0</td>\n",
       "    </tr>\n",
       "    <tr>\n",
       "      <th>2</th>\n",
       "      <td>2</td>\n",
       "      <td>A12WI1MRO70881</td>\n",
       "      <td>I RECOGNIZE THAT NON¿TRAIDDITIONAL PARTNERSHI...</td>\n",
       "      <td>23272</td>\n",
       "      <td>15</td>\n",
       "      <td>gay</td>\n",
       "      <td>182</td>\n",
       "      <td>0</td>\n",
       "      <td>0</td>\n",
       "      <td>0</td>\n",
       "      <td>0</td>\n",
       "      <td>0</td>\n",
       "      <td>0</td>\n",
       "      <td>0</td>\n",
       "      <td>0</td>\n",
       "      <td>0</td>\n",
       "      <td>0</td>\n",
       "    </tr>\n",
       "    <tr>\n",
       "      <th>3</th>\n",
       "      <td>3</td>\n",
       "      <td>A12WI1MRO70881</td>\n",
       "      <td>ITS ANA CORE SOCIAL INSTITUTION THAT IS UNDER...</td>\n",
       "      <td>15389</td>\n",
       "      <td>4</td>\n",
       "      <td>gay</td>\n",
       "      <td>179</td>\n",
       "      <td>0</td>\n",
       "      <td>0</td>\n",
       "      <td>0</td>\n",
       "      <td>0</td>\n",
       "      <td>0</td>\n",
       "      <td>0</td>\n",
       "      <td>0</td>\n",
       "      <td>0</td>\n",
       "      <td>0</td>\n",
       "      <td>0</td>\n",
       "    </tr>\n",
       "    <tr>\n",
       "      <th>4</th>\n",
       "      <td>4</td>\n",
       "      <td>A12WI1MRO70881</td>\n",
       "      <td>ITS A CORE SOCIAL INSTITUTION THAT IS UNDER A...</td>\n",
       "      <td>14949</td>\n",
       "      <td>3</td>\n",
       "      <td>gay</td>\n",
       "      <td>177</td>\n",
       "      <td>0</td>\n",
       "      <td>0</td>\n",
       "      <td>0</td>\n",
       "      <td>0</td>\n",
       "      <td>0</td>\n",
       "      <td>0</td>\n",
       "      <td>0</td>\n",
       "      <td>0</td>\n",
       "      <td>0</td>\n",
       "      <td>0</td>\n",
       "    </tr>\n",
       "  </tbody>\n",
       "</table>\n",
       "</div>"
      ],
      "text/plain": [
       "   Unnamed: 0         user_id  \\\n",
       "0           0  A12WI1MRO70881   \n",
       "1           1  A12WI1MRO70881   \n",
       "2           2  A12WI1MRO70881   \n",
       "3           3  A12WI1MRO70881   \n",
       "4           4  A12WI1MRO70881   \n",
       "\n",
       "                                            sentence  type_time  \\\n",
       "0   LET THERE BE OTHER FORMS OF ESTABLISHINA DOME...      43693   \n",
       "1   LET THERE BE LEGALY RECOGNIZED DOMSESTIC PART...      34515   \n",
       "2   I RECOGNIZE THAT NON¿TRAIDDITIONAL PARTNERSHI...      23272   \n",
       "3   ITS ANA CORE SOCIAL INSTITUTION THAT IS UNDER...      15389   \n",
       "4   ITS A CORE SOCIAL INSTITUTION THAT IS UNDER A...      14949   \n",
       "\n",
       "   function_keys topic  length  thethe  tha  health  consenting  sandy  \\\n",
       "0             22   gay     406       0    0       0           0      0   \n",
       "1             11   gay     387       0    0       0           0      0   \n",
       "2             15   gay     182       0    0       0           0      0   \n",
       "3              4   gay     179       0    0       0           0      0   \n",
       "4              3   gay     177       0    0       0           0      0   \n",
       "\n",
       "   wouldn  hte  fof  considering  walked  \n",
       "0       0    0    0            0       0  \n",
       "1       0    0    0            0       0  \n",
       "2       0    0    0            0       0  \n",
       "3       0    0    0            0       0  \n",
       "4       0    0    0            0       0  "
      ]
     },
     "execution_count": 38,
     "metadata": {},
     "output_type": "execute_result"
    }
   ],
   "source": [
    "data.head()"
   ]
  },
  {
   "cell_type": "markdown",
   "id": "74400817",
   "metadata": {},
   "source": [
    "## Column Creation"
   ]
  },
  {
   "cell_type": "code",
   "execution_count": 39,
   "id": "d0fc77d7",
   "metadata": {},
   "outputs": [],
   "source": [
    "sia = SentimentIntensityAnalyzer()"
   ]
  },
  {
   "cell_type": "code",
   "execution_count": 40,
   "id": "18afb517",
   "metadata": {},
   "outputs": [],
   "source": [
    "# Calculate the normalized sentiment score, according to VADER, of each sentence\n",
    "data['sentiment'] = data['sentence'].map(lambda x: sia.polarity_scores(x)['compound'])"
   ]
  },
  {
   "cell_type": "code",
   "execution_count": 41,
   "id": "acbacc22",
   "metadata": {},
   "outputs": [
    {
     "data": {
      "text/html": [
       "<div>\n",
       "<style scoped>\n",
       "    .dataframe tbody tr th:only-of-type {\n",
       "        vertical-align: middle;\n",
       "    }\n",
       "\n",
       "    .dataframe tbody tr th {\n",
       "        vertical-align: top;\n",
       "    }\n",
       "\n",
       "    .dataframe thead th {\n",
       "        text-align: right;\n",
       "    }\n",
       "</style>\n",
       "<table border=\"1\" class=\"dataframe\">\n",
       "  <thead>\n",
       "    <tr style=\"text-align: right;\">\n",
       "      <th></th>\n",
       "      <th>Unnamed: 0</th>\n",
       "      <th>user_id</th>\n",
       "      <th>sentence</th>\n",
       "      <th>type_time</th>\n",
       "      <th>function_keys</th>\n",
       "      <th>topic</th>\n",
       "      <th>length</th>\n",
       "      <th>thethe</th>\n",
       "      <th>tha</th>\n",
       "      <th>health</th>\n",
       "      <th>consenting</th>\n",
       "      <th>sandy</th>\n",
       "      <th>wouldn</th>\n",
       "      <th>hte</th>\n",
       "      <th>fof</th>\n",
       "      <th>considering</th>\n",
       "      <th>walked</th>\n",
       "      <th>sentiment</th>\n",
       "    </tr>\n",
       "  </thead>\n",
       "  <tbody>\n",
       "    <tr>\n",
       "      <th>0</th>\n",
       "      <td>0</td>\n",
       "      <td>A12WI1MRO70881</td>\n",
       "      <td>LET THERE BE OTHER FORMS OF ESTABLISHINA DOME...</td>\n",
       "      <td>43693</td>\n",
       "      <td>22</td>\n",
       "      <td>gay</td>\n",
       "      <td>406</td>\n",
       "      <td>0</td>\n",
       "      <td>0</td>\n",
       "      <td>0</td>\n",
       "      <td>0</td>\n",
       "      <td>0</td>\n",
       "      <td>0</td>\n",
       "      <td>0</td>\n",
       "      <td>0</td>\n",
       "      <td>0</td>\n",
       "      <td>0</td>\n",
       "      <td>0.4118</td>\n",
       "    </tr>\n",
       "    <tr>\n",
       "      <th>1</th>\n",
       "      <td>1</td>\n",
       "      <td>A12WI1MRO70881</td>\n",
       "      <td>LET THERE BE LEGALY RECOGNIZED DOMSESTIC PART...</td>\n",
       "      <td>34515</td>\n",
       "      <td>11</td>\n",
       "      <td>gay</td>\n",
       "      <td>387</td>\n",
       "      <td>0</td>\n",
       "      <td>0</td>\n",
       "      <td>0</td>\n",
       "      <td>0</td>\n",
       "      <td>0</td>\n",
       "      <td>0</td>\n",
       "      <td>0</td>\n",
       "      <td>0</td>\n",
       "      <td>0</td>\n",
       "      <td>0</td>\n",
       "      <td>0.5423</td>\n",
       "    </tr>\n",
       "    <tr>\n",
       "      <th>2</th>\n",
       "      <td>2</td>\n",
       "      <td>A12WI1MRO70881</td>\n",
       "      <td>I RECOGNIZE THAT NON¿TRAIDDITIONAL PARTNERSHI...</td>\n",
       "      <td>23272</td>\n",
       "      <td>15</td>\n",
       "      <td>gay</td>\n",
       "      <td>182</td>\n",
       "      <td>0</td>\n",
       "      <td>0</td>\n",
       "      <td>0</td>\n",
       "      <td>0</td>\n",
       "      <td>0</td>\n",
       "      <td>0</td>\n",
       "      <td>0</td>\n",
       "      <td>0</td>\n",
       "      <td>0</td>\n",
       "      <td>0</td>\n",
       "      <td>0.0000</td>\n",
       "    </tr>\n",
       "    <tr>\n",
       "      <th>3</th>\n",
       "      <td>3</td>\n",
       "      <td>A12WI1MRO70881</td>\n",
       "      <td>ITS ANA CORE SOCIAL INSTITUTION THAT IS UNDER...</td>\n",
       "      <td>15389</td>\n",
       "      <td>4</td>\n",
       "      <td>gay</td>\n",
       "      <td>179</td>\n",
       "      <td>0</td>\n",
       "      <td>0</td>\n",
       "      <td>0</td>\n",
       "      <td>0</td>\n",
       "      <td>0</td>\n",
       "      <td>0</td>\n",
       "      <td>0</td>\n",
       "      <td>0</td>\n",
       "      <td>0</td>\n",
       "      <td>0</td>\n",
       "      <td>0.6249</td>\n",
       "    </tr>\n",
       "    <tr>\n",
       "      <th>4</th>\n",
       "      <td>4</td>\n",
       "      <td>A12WI1MRO70881</td>\n",
       "      <td>ITS A CORE SOCIAL INSTITUTION THAT IS UNDER A...</td>\n",
       "      <td>14949</td>\n",
       "      <td>3</td>\n",
       "      <td>gay</td>\n",
       "      <td>177</td>\n",
       "      <td>0</td>\n",
       "      <td>0</td>\n",
       "      <td>0</td>\n",
       "      <td>0</td>\n",
       "      <td>0</td>\n",
       "      <td>0</td>\n",
       "      <td>0</td>\n",
       "      <td>0</td>\n",
       "      <td>0</td>\n",
       "      <td>0</td>\n",
       "      <td>0.6249</td>\n",
       "    </tr>\n",
       "  </tbody>\n",
       "</table>\n",
       "</div>"
      ],
      "text/plain": [
       "   Unnamed: 0         user_id  \\\n",
       "0           0  A12WI1MRO70881   \n",
       "1           1  A12WI1MRO70881   \n",
       "2           2  A12WI1MRO70881   \n",
       "3           3  A12WI1MRO70881   \n",
       "4           4  A12WI1MRO70881   \n",
       "\n",
       "                                            sentence  type_time  \\\n",
       "0   LET THERE BE OTHER FORMS OF ESTABLISHINA DOME...      43693   \n",
       "1   LET THERE BE LEGALY RECOGNIZED DOMSESTIC PART...      34515   \n",
       "2   I RECOGNIZE THAT NON¿TRAIDDITIONAL PARTNERSHI...      23272   \n",
       "3   ITS ANA CORE SOCIAL INSTITUTION THAT IS UNDER...      15389   \n",
       "4   ITS A CORE SOCIAL INSTITUTION THAT IS UNDER A...      14949   \n",
       "\n",
       "   function_keys topic  length  thethe  tha  health  consenting  sandy  \\\n",
       "0             22   gay     406       0    0       0           0      0   \n",
       "1             11   gay     387       0    0       0           0      0   \n",
       "2             15   gay     182       0    0       0           0      0   \n",
       "3              4   gay     179       0    0       0           0      0   \n",
       "4              3   gay     177       0    0       0           0      0   \n",
       "\n",
       "   wouldn  hte  fof  considering  walked  sentiment  \n",
       "0       0    0    0            0       0     0.4118  \n",
       "1       0    0    0            0       0     0.5423  \n",
       "2       0    0    0            0       0     0.0000  \n",
       "3       0    0    0            0       0     0.6249  \n",
       "4       0    0    0            0       0     0.6249  "
      ]
     },
     "execution_count": 41,
     "metadata": {},
     "output_type": "execute_result"
    }
   ],
   "source": [
    "data.head()"
   ]
  },
  {
   "cell_type": "code",
   "execution_count": 42,
   "id": "90a6d297",
   "metadata": {},
   "outputs": [],
   "source": [
    "# Dummify topic column so it can be used as a predictor\n",
    "topic_dummies = pd.get_dummies(data['topic'])"
   ]
  },
  {
   "cell_type": "code",
   "execution_count": 43,
   "id": "9f00732f",
   "metadata": {},
   "outputs": [
    {
     "data": {
      "text/html": [
       "<div>\n",
       "<style scoped>\n",
       "    .dataframe tbody tr th:only-of-type {\n",
       "        vertical-align: middle;\n",
       "    }\n",
       "\n",
       "    .dataframe tbody tr th {\n",
       "        vertical-align: top;\n",
       "    }\n",
       "\n",
       "    .dataframe thead th {\n",
       "        text-align: right;\n",
       "    }\n",
       "</style>\n",
       "<table border=\"1\" class=\"dataframe\">\n",
       "  <thead>\n",
       "    <tr style=\"text-align: right;\">\n",
       "      <th></th>\n",
       "      <th>gay</th>\n",
       "      <th>gun</th>\n",
       "      <th>review</th>\n",
       "    </tr>\n",
       "  </thead>\n",
       "  <tbody>\n",
       "    <tr>\n",
       "      <th>0</th>\n",
       "      <td>1</td>\n",
       "      <td>0</td>\n",
       "      <td>0</td>\n",
       "    </tr>\n",
       "    <tr>\n",
       "      <th>1</th>\n",
       "      <td>1</td>\n",
       "      <td>0</td>\n",
       "      <td>0</td>\n",
       "    </tr>\n",
       "    <tr>\n",
       "      <th>2</th>\n",
       "      <td>1</td>\n",
       "      <td>0</td>\n",
       "      <td>0</td>\n",
       "    </tr>\n",
       "    <tr>\n",
       "      <th>3</th>\n",
       "      <td>1</td>\n",
       "      <td>0</td>\n",
       "      <td>0</td>\n",
       "    </tr>\n",
       "    <tr>\n",
       "      <th>4</th>\n",
       "      <td>1</td>\n",
       "      <td>0</td>\n",
       "      <td>0</td>\n",
       "    </tr>\n",
       "  </tbody>\n",
       "</table>\n",
       "</div>"
      ],
      "text/plain": [
       "   gay  gun  review\n",
       "0    1    0       0\n",
       "1    1    0       0\n",
       "2    1    0       0\n",
       "3    1    0       0\n",
       "4    1    0       0"
      ]
     },
     "execution_count": 43,
     "metadata": {},
     "output_type": "execute_result"
    }
   ],
   "source": [
    "topic_dummies.head()"
   ]
  },
  {
   "cell_type": "code",
   "execution_count": 44,
   "id": "37e38ed4",
   "metadata": {},
   "outputs": [],
   "source": [
    "# gay = (1,0), gun = (0,1), review = (0,0)\n",
    "data['about_gay'] = topic_dummies['gay']\n",
    "data['about_gun'] = topic_dummies['gun']"
   ]
  },
  {
   "cell_type": "markdown",
   "id": "c9a44d84",
   "metadata": {},
   "source": [
    "## Modeling"
   ]
  },
  {
   "cell_type": "markdown",
   "id": "42b3eaba",
   "metadata": {},
   "source": [
    "We will use the same four predictive models: linear regression, a decision tree regressor, a bagging regressor, and a random forest regressor."
   ]
  },
  {
   "cell_type": "code",
   "execution_count": 45,
   "id": "425dd615",
   "metadata": {},
   "outputs": [],
   "source": [
    "X = data[['about_gay', 'about_gun', 'function_keys', 'sentiment', 'length']]\n",
    "y = data['type_time']"
   ]
  },
  {
   "cell_type": "code",
   "execution_count": 46,
   "id": "b93076fc",
   "metadata": {},
   "outputs": [],
   "source": [
    "X_train, X_test, y_train, y_test = train_test_split(X, y, random_state = 42, test_size = 0.2)"
   ]
  },
  {
   "cell_type": "code",
   "execution_count": 47,
   "id": "0860580a",
   "metadata": {},
   "outputs": [],
   "source": [
    "ss = StandardScaler()\n",
    "Xs_train = ss.fit_transform(X_train)\n",
    "Xs_test = ss.transform(X_test)"
   ]
  },
  {
   "cell_type": "code",
   "execution_count": 48,
   "id": "7d9193d2",
   "metadata": {},
   "outputs": [],
   "source": [
    "lr = LinearRegression()"
   ]
  },
  {
   "cell_type": "code",
   "execution_count": 49,
   "id": "6e2e520f",
   "metadata": {},
   "outputs": [
    {
     "data": {
      "text/plain": [
       "LinearRegression()"
      ]
     },
     "execution_count": 49,
     "metadata": {},
     "output_type": "execute_result"
    }
   ],
   "source": [
    "lr.fit(Xs_train, y_train)"
   ]
  },
  {
   "cell_type": "code",
   "execution_count": 50,
   "id": "808b2db2",
   "metadata": {},
   "outputs": [
    {
     "data": {
      "text/plain": [
       "0.8549312105666668"
      ]
     },
     "execution_count": 50,
     "metadata": {},
     "output_type": "execute_result"
    }
   ],
   "source": [
    "lr.score(Xs_train, y_train)"
   ]
  },
  {
   "cell_type": "code",
   "execution_count": 51,
   "id": "2b230dc1",
   "metadata": {},
   "outputs": [
    {
     "data": {
      "text/plain": [
       "0.8584526417732188"
      ]
     },
     "execution_count": 51,
     "metadata": {},
     "output_type": "execute_result"
    }
   ],
   "source": [
    "lr.score(Xs_test, y_test)"
   ]
  },
  {
   "cell_type": "code",
   "execution_count": 52,
   "id": "11d22c86",
   "metadata": {},
   "outputs": [],
   "source": [
    "dtr = DecisionTreeRegressor()"
   ]
  },
  {
   "cell_type": "code",
   "execution_count": 53,
   "id": "2bc9ef46",
   "metadata": {},
   "outputs": [
    {
     "data": {
      "text/plain": [
       "DecisionTreeRegressor()"
      ]
     },
     "execution_count": 53,
     "metadata": {},
     "output_type": "execute_result"
    }
   ],
   "source": [
    "dtr.fit(Xs_train, y_train)"
   ]
  },
  {
   "cell_type": "code",
   "execution_count": 54,
   "id": "6e1be111",
   "metadata": {},
   "outputs": [
    {
     "data": {
      "text/plain": [
       "0.9877261905766811"
      ]
     },
     "execution_count": 54,
     "metadata": {},
     "output_type": "execute_result"
    }
   ],
   "source": [
    "dtr.score(Xs_train, y_train)"
   ]
  },
  {
   "cell_type": "code",
   "execution_count": 55,
   "id": "fa9d8e08",
   "metadata": {},
   "outputs": [
    {
     "data": {
      "text/plain": [
       "0.7228378898862269"
      ]
     },
     "execution_count": 55,
     "metadata": {},
     "output_type": "execute_result"
    }
   ],
   "source": [
    "dtr.score(Xs_test, y_test)"
   ]
  },
  {
   "cell_type": "code",
   "execution_count": 56,
   "id": "1f5ec71a",
   "metadata": {},
   "outputs": [],
   "source": [
    "br = BaggingRegressor()"
   ]
  },
  {
   "cell_type": "code",
   "execution_count": 57,
   "id": "15a464d1",
   "metadata": {},
   "outputs": [
    {
     "data": {
      "text/plain": [
       "BaggingRegressor()"
      ]
     },
     "execution_count": 57,
     "metadata": {},
     "output_type": "execute_result"
    }
   ],
   "source": [
    "br.fit(Xs_train, y_train)"
   ]
  },
  {
   "cell_type": "code",
   "execution_count": 58,
   "id": "2db305b1",
   "metadata": {},
   "outputs": [
    {
     "data": {
      "text/plain": [
       "0.9596698864002153"
      ]
     },
     "execution_count": 58,
     "metadata": {},
     "output_type": "execute_result"
    }
   ],
   "source": [
    "br.score(Xs_train, y_train)"
   ]
  },
  {
   "cell_type": "code",
   "execution_count": 59,
   "id": "e417e14a",
   "metadata": {},
   "outputs": [
    {
     "data": {
      "text/plain": [
       "0.8271657215815318"
      ]
     },
     "execution_count": 59,
     "metadata": {},
     "output_type": "execute_result"
    }
   ],
   "source": [
    "br.score(Xs_test, y_test)"
   ]
  },
  {
   "cell_type": "code",
   "execution_count": 60,
   "id": "5ec4ba05",
   "metadata": {},
   "outputs": [],
   "source": [
    "rfr = RandomForestRegressor()"
   ]
  },
  {
   "cell_type": "code",
   "execution_count": 61,
   "id": "3410f1fc",
   "metadata": {},
   "outputs": [
    {
     "data": {
      "text/plain": [
       "RandomForestRegressor()"
      ]
     },
     "execution_count": 61,
     "metadata": {},
     "output_type": "execute_result"
    }
   ],
   "source": [
    "rfr.fit(Xs_train, y_train)"
   ]
  },
  {
   "cell_type": "code",
   "execution_count": 62,
   "id": "13ac4b05",
   "metadata": {},
   "outputs": [
    {
     "data": {
      "text/plain": [
       "0.967280149193555"
      ]
     },
     "execution_count": 62,
     "metadata": {},
     "output_type": "execute_result"
    }
   ],
   "source": [
    "rfr.score(Xs_train, y_train)"
   ]
  },
  {
   "cell_type": "code",
   "execution_count": 63,
   "id": "ee4e53ef",
   "metadata": {},
   "outputs": [
    {
     "data": {
      "text/plain": [
       "0.836738922555047"
      ]
     },
     "execution_count": 63,
     "metadata": {},
     "output_type": "execute_result"
    }
   ],
   "source": [
    "rfr.score(Xs_test, y_test)"
   ]
  },
  {
   "cell_type": "markdown",
   "id": "e20d905f",
   "metadata": {},
   "source": [
    "This time, the random forest regressor model performs the best. It gives us excellent accuracy for both the training and test sets, but since there is overfitting we should still try to fine-tune it further."
   ]
  },
  {
   "cell_type": "code",
   "execution_count": 64,
   "id": "154615e1",
   "metadata": {},
   "outputs": [
    {
     "data": {
      "text/plain": [
       "0.8832372765691172"
      ]
     },
     "execution_count": 64,
     "metadata": {},
     "output_type": "execute_result"
    }
   ],
   "source": [
    "rfr2 = RandomForestRegressor(n_estimators=500, min_samples_leaf=10)\n",
    "rfr2.fit(Xs_train, y_train)\n",
    "rfr2.score(Xs_train, y_train)"
   ]
  },
  {
   "cell_type": "code",
   "execution_count": 65,
   "id": "e537b871",
   "metadata": {},
   "outputs": [
    {
     "data": {
      "text/plain": [
       "0.8515839102017384"
      ]
     },
     "execution_count": 65,
     "metadata": {},
     "output_type": "execute_result"
    }
   ],
   "source": [
    "rfr2.score(Xs_test, y_test)"
   ]
  },
  {
   "cell_type": "markdown",
   "id": "23c50991",
   "metadata": {},
   "source": [
    "Increasing the number of estimators and the number of samples in a leaf both decreased the variance and increased the accuracy for the test set."
   ]
  },
  {
   "cell_type": "code",
   "execution_count": 66,
   "id": "0c0266c4",
   "metadata": {},
   "outputs": [
    {
     "data": {
      "text/plain": [
       "array([0.00152906, 0.00170488, 0.05742449, 0.01498382, 0.92435775])"
      ]
     },
     "execution_count": 66,
     "metadata": {},
     "output_type": "execute_result"
    }
   ],
   "source": [
    "rfr2.feature_importances_"
   ]
  },
  {
   "cell_type": "markdown",
   "id": "256b39b1",
   "metadata": {},
   "source": [
    "The results of the random forest regressor model imply that the length of the sentence is easily the most important factor in how long it takes to type it, but both the number of function keys and the sentiment have a small but significant influence on typing speed. The topic of the sentence does not matter much."
   ]
  },
  {
   "cell_type": "code",
   "execution_count": 67,
   "id": "d8b14a93",
   "metadata": {},
   "outputs": [
    {
     "data": {
      "image/png": "[encoded data removed]",
      "text/plain": [
       "<Figure size 432x288 with 1 Axes>"
      ]
     },
     "metadata": {
      "needs_background": "light"
     },
     "output_type": "display_data"
    }
   ],
   "source": [
    "plt.scatter(data['function_keys'], data['type_time'])\n",
    "plt.title('Function Keys vs. Typing Speed Plot')\n",
    "plt.xlabel('Number of Function Keys Used')\n",
    "plt.ylabel('Time to Type Sentence');"
   ]
  },
  {
   "cell_type": "code",
   "execution_count": 68,
   "id": "eea2ab76",
   "metadata": {},
   "outputs": [
    {
     "data": {
      "image/png": "[encoded data removed]",
      "text/plain": [
       "<Figure size 432x288 with 1 Axes>"
      ]
     },
     "metadata": {
      "needs_background": "light"
     },
     "output_type": "display_data"
    }
   ],
   "source": [
    "plt.scatter(data['sentiment'], data['type_time'])\n",
    "plt.title('Sentiment vs. Typing Speed Plot')\n",
    "plt.xlabel('Sentiment of Sentence')\n",
    "plt.ylabel('Time to Type Sentence');"
   ]
  },
  {
   "cell_type": "code",
   "execution_count": 69,
   "id": "c611f101",
   "metadata": {},
   "outputs": [],
   "source": [
    "data.to_csv('../data/data_with_sentiment.csv')"
   ]
  },
  {
   "cell_type": "code",
   "execution_count": null,
   "id": "227e991e",
   "metadata": {},
   "outputs": [],
   "source": []
  }
 ],
 "metadata": {
  "kernelspec": {
   "display_name": "Python 3",
   "language": "python",
   "name": "python3"
  },
  "language_info": {
   "codemirror_mode": {
    "name": "ipython",
    "version": 3
   },
   "file_extension": ".py",
   "mimetype": "text/x-python",
   "name": "python",
   "nbconvert_exporter": "python",
   "pygments_lexer": "ipython3",
   "version": "3.8.8"
  }
 },
 "nbformat": 4,
 "nbformat_minor": 5
}
