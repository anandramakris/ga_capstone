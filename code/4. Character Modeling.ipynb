{
 "cells": [
  {
   "cell_type": "markdown",
   "id": "77e66a47",
   "metadata": {},
   "source": [
    "# Part 4: Character Modeling"
   ]
  },
  {
   "cell_type": "code",
   "execution_count": 36,
   "id": "fc1d584a",
   "metadata": {},
   "outputs": [],
   "source": [
    "import pandas as pd\n",
    "import matplotlib.pyplot as plt\n",
    "import seaborn as sns\n",
    "from sklearn.model_selection import train_test_split\n",
    "from sklearn.linear_model import LinearRegression\n",
    "from sklearn.tree import DecisionTreeRegressor\n",
    "from sklearn.ensemble import BaggingRegressor, RandomForestRegressor\n",
    "\n",
    "# Documentation for collections.Counter\n",
    "# https://docs.python.org/3/library/collections.html#collections.Counter\n",
    "from collections import Counter"
   ]
  },
  {
   "cell_type": "code",
   "execution_count": 37,
   "id": "02b7859a",
   "metadata": {},
   "outputs": [],
   "source": [
    "data = pd.read_csv('../data/data_with_sentiment.csv')"
   ]
  },
  {
   "cell_type": "code",
   "execution_count": 38,
   "id": "00403a4a",
   "metadata": {},
   "outputs": [],
   "source": [
    "# Joining the sentences into one text item so we can find the frequency of each character\n",
    "text = \" \".join(data['sentence'])"
   ]
  },
  {
   "cell_type": "code",
   "execution_count": 39,
   "id": "129942ba",
   "metadata": {},
   "outputs": [],
   "source": [
    "text_counter = Counter(text)"
   ]
  },
  {
   "cell_type": "code",
   "execution_count": 40,
   "id": "06530f5c",
   "metadata": {},
   "outputs": [
    {
     "data": {
      "text/plain": [
       "[(' ', 625083),\n",
       " ('E', 332688),\n",
       " ('T', 249687),\n",
       " ('A', 232409),\n",
       " ('O', 205353),\n",
       " ('I', 196380),\n",
       " ('N', 186120),\n",
       " ('S', 167158),\n",
       " ('R', 156459),\n",
       " ('H', 134652),\n",
       " ('L', 103695),\n",
       " ('D', 93382),\n",
       " ('U', 83055),\n",
       " ('C', 74416),\n",
       " ('M', 65526),\n",
       " ('G', 65479),\n",
       " ('Y', 59733),\n",
       " ('F', 55004),\n",
       " ('W', 54515),\n",
       " ('P', 49252),\n",
       " ('B', 39321),\n",
       " ('V', 33989),\n",
       " ('.', 32710),\n",
       " (',', 22539),\n",
       " ('K', 17440),\n",
       " ('\"', 8202),\n",
       " ('¿', 5965),\n",
       " ('X', 5431),\n",
       " ('Z', 3880),\n",
       " ('J', 3491),\n",
       " ('Q', 2376),\n",
       " ('1', 1649),\n",
       " ('-', 1425),\n",
       " ('/', 1239),\n",
       " ('0', 973),\n",
       " ('9', 614),\n",
       " (';', 460),\n",
       " ('2', 378),\n",
       " ('5', 288),\n",
       " ('4', 221),\n",
       " ('3', 171),\n",
       " ('7', 161),\n",
       " ('8', 99),\n",
       " ('6', 91),\n",
       " ('+', 37),\n",
       " ('~', 17),\n",
       " ('\\\\', 13),\n",
       " (']', 5)]"
      ]
     },
     "execution_count": 40,
     "metadata": {},
     "output_type": "execute_result"
    }
   ],
   "source": [
    "text_counter.most_common()"
   ]
  },
  {
   "cell_type": "code",
   "execution_count": 41,
   "id": "5d2cf052",
   "metadata": {},
   "outputs": [
    {
     "data": {
      "image/png": "[encoded data removed]",
      "text/plain": [
       "<Figure size 720x432 with 1 Axes>"
      ]
     },
     "metadata": {
      "needs_background": "light"
     },
     "output_type": "display_data"
    }
   ],
   "source": [
    "plt.figure(figsize = (10, 6))\n",
    "plt.bar(text_counter.keys(), text_counter.values())\n",
    "plt.title('Frequency of Each Character in Dataset');"
   ]
  },
  {
   "cell_type": "markdown",
   "id": "db02e37c",
   "metadata": {},
   "source": [
    "I will use every character as a predictor based on how much they occur in the sentence."
   ]
  },
  {
   "cell_type": "code",
   "execution_count": 42,
   "id": "651441c2",
   "metadata": {},
   "outputs": [],
   "source": [
    "for ch in text_counter.keys():\n",
    "    if ch == ' ':\n",
    "        data['contains__'] = data['sentence'].map(lambda x: x.count(ch))\n",
    "    else:\n",
    "        data['contains_' + ch] = data['sentence'].map(lambda x: x.count(ch))"
   ]
  },
  {
   "cell_type": "markdown",
   "id": "67ed4b8a",
   "metadata": {},
   "source": [
    "## Modeling"
   ]
  },
  {
   "cell_type": "markdown",
   "id": "4f72cbc6",
   "metadata": {},
   "source": [
    "Again, we will use linear regression, a decision tree regressor, a bagging regressor, and a random forest regressor."
   ]
  },
  {
   "cell_type": "code",
   "execution_count": 43,
   "id": "2761cef1",
   "metadata": {},
   "outputs": [],
   "source": [
    "# How to get columns that start with a word is taken from here:\n",
    "# https://mathdatasimplified.com/2020/11/27/pandas-dataframe-how-to-select-all-columns-that-start-with-a-word/\n",
    "\n",
    "X = data[data.columns[data.columns.str.startswith('contains')]]"
   ]
  },
  {
   "cell_type": "code",
   "execution_count": 44,
   "id": "b6a0310c",
   "metadata": {},
   "outputs": [],
   "source": [
    "y = data['type_time']"
   ]
  },
  {
   "cell_type": "code",
   "execution_count": 45,
   "id": "b26aadfa",
   "metadata": {},
   "outputs": [],
   "source": [
    "X_train, X_test, y_train, y_test = train_test_split(X, y, random_state=42, test_size=0.2)"
   ]
  },
  {
   "cell_type": "code",
   "execution_count": 46,
   "id": "2c7bab2e",
   "metadata": {},
   "outputs": [
    {
     "data": {
      "text/plain": [
       "0.8205278047488958"
      ]
     },
     "execution_count": 46,
     "metadata": {},
     "output_type": "execute_result"
    }
   ],
   "source": [
    "lr = LinearRegression()\n",
    "lr.fit(X_train, y_train)\n",
    "lr.score(X_train, y_train)"
   ]
  },
  {
   "cell_type": "code",
   "execution_count": 47,
   "id": "9729fade",
   "metadata": {},
   "outputs": [
    {
     "data": {
      "text/plain": [
       "0.8270927959920755"
      ]
     },
     "execution_count": 47,
     "metadata": {},
     "output_type": "execute_result"
    }
   ],
   "source": [
    "lr.score(X_test, y_test)"
   ]
  },
  {
   "cell_type": "code",
   "execution_count": 48,
   "id": "16b64b2e",
   "metadata": {},
   "outputs": [
    {
     "data": {
      "text/plain": [
       "0.9998102472889395"
      ]
     },
     "execution_count": 48,
     "metadata": {},
     "output_type": "execute_result"
    }
   ],
   "source": [
    "dtr = DecisionTreeRegressor()\n",
    "dtr.fit(X_train, y_train)\n",
    "dtr.score(X_train, y_train)"
   ]
  },
  {
   "cell_type": "code",
   "execution_count": 49,
   "id": "5891fc5d",
   "metadata": {},
   "outputs": [
    {
     "data": {
      "text/plain": [
       "0.6897310123659264"
      ]
     },
     "execution_count": 49,
     "metadata": {},
     "output_type": "execute_result"
    }
   ],
   "source": [
    "dtr.score(X_test, y_test)"
   ]
  },
  {
   "cell_type": "code",
   "execution_count": 50,
   "id": "b4662db5",
   "metadata": {},
   "outputs": [
    {
     "data": {
      "text/plain": [
       "0.9654909270108931"
      ]
     },
     "execution_count": 50,
     "metadata": {},
     "output_type": "execute_result"
    }
   ],
   "source": [
    "br = BaggingRegressor()\n",
    "br.fit(X_train, y_train)\n",
    "br.score(X_train, y_train)"
   ]
  },
  {
   "cell_type": "code",
   "execution_count": 51,
   "id": "a0e4b4c5",
   "metadata": {},
   "outputs": [
    {
     "data": {
      "text/plain": [
       "0.8228766214932652"
      ]
     },
     "execution_count": 51,
     "metadata": {},
     "output_type": "execute_result"
    }
   ],
   "source": [
    "br.score(X_test, y_test)"
   ]
  },
  {
   "cell_type": "code",
   "execution_count": 52,
   "id": "171556d6",
   "metadata": {},
   "outputs": [
    {
     "data": {
      "text/plain": [
       "0.9768095828183279"
      ]
     },
     "execution_count": 52,
     "metadata": {},
     "output_type": "execute_result"
    }
   ],
   "source": [
    "rfr = RandomForestRegressor()\n",
    "rfr.fit(X_train, y_train)\n",
    "rfr.score(X_train, y_train)"
   ]
  },
  {
   "cell_type": "code",
   "execution_count": 53,
   "id": "215ab84d",
   "metadata": {},
   "outputs": [
    {
     "data": {
      "text/plain": [
       "0.8384773502280679"
      ]
     },
     "execution_count": 53,
     "metadata": {},
     "output_type": "execute_result"
    }
   ],
   "source": [
    "rfr.score(X_test, y_test)"
   ]
  },
  {
   "cell_type": "markdown",
   "id": "b252194b",
   "metadata": {},
   "source": [
    "The random forest regressor is the best for modeling the impact of one character on typing time, even though the model is overfit."
   ]
  },
  {
   "cell_type": "code",
   "execution_count": 54,
   "id": "c908d095",
   "metadata": {},
   "outputs": [],
   "source": [
    "coef = pd.DataFrame(rfr.feature_importances_, columns = ['coef'], index = X.columns)"
   ]
  },
  {
   "cell_type": "code",
   "execution_count": 55,
   "id": "4dc23620",
   "metadata": {},
   "outputs": [
    {
     "data": {
      "text/html": [
       "<div>\n",
       "<style scoped>\n",
       "    .dataframe tbody tr th:only-of-type {\n",
       "        vertical-align: middle;\n",
       "    }\n",
       "\n",
       "    .dataframe tbody tr th {\n",
       "        vertical-align: top;\n",
       "    }\n",
       "\n",
       "    .dataframe thead th {\n",
       "        text-align: right;\n",
       "    }\n",
       "</style>\n",
       "<table border=\"1\" class=\"dataframe\">\n",
       "  <thead>\n",
       "    <tr style=\"text-align: right;\">\n",
       "      <th></th>\n",
       "      <th>coef</th>\n",
       "    </tr>\n",
       "  </thead>\n",
       "  <tbody>\n",
       "    <tr>\n",
       "      <th>contains__</th>\n",
       "      <td>0.755172</td>\n",
       "    </tr>\n",
       "    <tr>\n",
       "      <th>contains_E</th>\n",
       "      <td>0.023510</td>\n",
       "    </tr>\n",
       "    <tr>\n",
       "      <th>contains_I</th>\n",
       "      <td>0.018309</td>\n",
       "    </tr>\n",
       "    <tr>\n",
       "      <th>contains_O</th>\n",
       "      <td>0.014869</td>\n",
       "    </tr>\n",
       "    <tr>\n",
       "      <th>contains_T</th>\n",
       "      <td>0.014404</td>\n",
       "    </tr>\n",
       "    <tr>\n",
       "      <th>contains_R</th>\n",
       "      <td>0.014265</td>\n",
       "    </tr>\n",
       "    <tr>\n",
       "      <th>contains_A</th>\n",
       "      <td>0.013518</td>\n",
       "    </tr>\n",
       "    <tr>\n",
       "      <th>contains_S</th>\n",
       "      <td>0.013001</td>\n",
       "    </tr>\n",
       "    <tr>\n",
       "      <th>contains_N</th>\n",
       "      <td>0.011937</td>\n",
       "    </tr>\n",
       "    <tr>\n",
       "      <th>contains_L</th>\n",
       "      <td>0.010079</td>\n",
       "    </tr>\n",
       "  </tbody>\n",
       "</table>\n",
       "</div>"
      ],
      "text/plain": [
       "                coef\n",
       "contains__  0.755172\n",
       "contains_E  0.023510\n",
       "contains_I  0.018309\n",
       "contains_O  0.014869\n",
       "contains_T  0.014404\n",
       "contains_R  0.014265\n",
       "contains_A  0.013518\n",
       "contains_S  0.013001\n",
       "contains_N  0.011937\n",
       "contains_L  0.010079"
      ]
     },
     "execution_count": 55,
     "metadata": {},
     "output_type": "execute_result"
    }
   ],
   "source": [
    "coef.sort_values('coef', ascending=False).head(10)"
   ]
  },
  {
   "cell_type": "markdown",
   "id": "a5ef4a03",
   "metadata": {},
   "source": [
    "The number of spaces is easily the most important feature in the model, but the ten most common letters (aside from H) also have a significant effect on typing time."
   ]
  },
  {
   "cell_type": "markdown",
   "id": "b75d46d6",
   "metadata": {},
   "source": [
    "## Multicollinearity Checking"
   ]
  },
  {
   "cell_type": "code",
   "execution_count": 56,
   "id": "703172ef",
   "metadata": {},
   "outputs": [
    {
     "name": "stderr",
     "output_type": "stream",
     "text": [
      "<ipython-input-56-742100e577dc>:1: SettingWithCopyWarning: \n",
      "A value is trying to be set on a copy of a slice from a DataFrame.\n",
      "Try using .loc[row_indexer,col_indexer] = value instead\n",
      "\n",
      "See the caveats in the documentation: https://pandas.pydata.org/pandas-docs/stable/user_guide/indexing.html#returning-a-view-versus-a-copy\n",
      "  X['length'] = data['length']\n"
     ]
    }
   ],
   "source": [
    "X['length'] = data['length']"
   ]
  },
  {
   "cell_type": "code",
   "execution_count": 57,
   "id": "b2954e15",
   "metadata": {},
   "outputs": [
    {
     "data": {
      "text/plain": [
       "Text(0.5, 1.0, 'Multicollinearity Heatmap')"
      ]
     },
     "execution_count": 57,
     "metadata": {},
     "output_type": "execute_result"
    },
    {
     "data": {
      "image/png": "[encoded data removed]",
      "text/plain": [
       "<Figure size 720x720 with 2 Axes>"
      ]
     },
     "metadata": {
      "needs_background": "light"
     },
     "output_type": "display_data"
    }
   ],
   "source": [
    "# Checking for multicollinearity between the \"contains\" variables and length\n",
    "corr = X[['length', 'contains__', 'contains_E', 'contains_I', 'contains_T', 'contains_R', \n",
    "          'contains_O', 'contains_A', 'contains_S', 'contains_N', 'contains_L']].corr()\n",
    "plt.figure(figsize = (10, 10))\n",
    "sns.heatmap(corr, annot = True, cmap = 'Blues')\n",
    "plt.title(\"Multicollinearity Heatmap\")"
   ]
  },
  {
   "cell_type": "markdown",
   "id": "405d8e51",
   "metadata": {},
   "source": [
    "The length and \"contains spaces\" variables have high correlation with the top letter variables, but the top letter variables do not have very high correlation with each other. Length and \"contains spaces\" can be removed to prevent multicollinearity."
   ]
  },
  {
   "cell_type": "code",
   "execution_count": 58,
   "id": "caa6aaf9",
   "metadata": {},
   "outputs": [],
   "source": [
    "data_new = pd.read_csv('../data/data_with_sentiment.csv')\n",
    "\n",
    "# We will put the 9 most important words into our final dataframe\n",
    "for ch in ['E', 'I', 'T', 'R', 'O', 'A', 'S', 'N', 'L']:\n",
    "    data_new['contains_' + ch] = data_new['sentence'].map(lambda x: x.count(ch))"
   ]
  },
  {
   "cell_type": "code",
   "execution_count": 59,
   "id": "fe7458b7",
   "metadata": {},
   "outputs": [],
   "source": [
    "data_new.to_csv('../data/data_with_letters.csv')"
   ]
  },
  {
   "cell_type": "code",
   "execution_count": null,
   "id": "5a67890f",
   "metadata": {},
   "outputs": [],
   "source": []
  }
 ],
 "metadata": {
  "kernelspec": {
   "display_name": "Python 3",
   "language": "python",
   "name": "python3"
  },
  "language_info": {
   "codemirror_mode": {
    "name": "ipython",
    "version": 3
   },
   "file_extension": ".py",
   "mimetype": "text/x-python",
   "name": "python",
   "nbconvert_exporter": "python",
   "pygments_lexer": "ipython3",
   "version": "3.8.8"
  }
 },
 "nbformat": 4,
 "nbformat_minor": 5
}
